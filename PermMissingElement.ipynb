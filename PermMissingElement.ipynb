{
 "cells": [
  {
   "cell_type": "markdown",
   "id": "dd71f2a8",
   "metadata": {},
   "source": [
    "A zero-indexed array A consisting of N different integers is given. The array contains integers in the range [1..(N + 1)], which means that exactly one element is missing. Your goal is to find that missing element.\n",
    "\n",
    "#### Write a function:\n",
    "    def solution(A)\n",
    "that, given a zero-indexed array A, returns the value of the missing element.\n",
    "\n",
    "#### For example, given array A such that:\n",
    "    A[0] = 2\n",
    "    A[1] = 3\n",
    "    A[2] = 1\n",
    "    A[3] = 5\n",
    "the function should return 4, as it is the missing element.\n",
    "\n",
    "#### Assume that:\n",
    "N is an integer within the range [0..100,000];\n",
    "the elements of A are all distinct;\n",
    "each element of array A is an integer within the range [1..(N + 1)].\n",
    "Complexity:\n",
    "expected worst-case time complexity is O(N);\n",
    "expected worst-case space complexity is O(1), beyond input storage\n",
    "(not counting the storage required for input arguments).\n",
    "Elements of input arrays can be modified.\n",
    "\"\"\"\n"
   ]
  },
  {
   "cell_type": "code",
   "execution_count": 28,
   "id": "22c13335",
   "metadata": {},
   "outputs": [],
   "source": [
    "import numpy as np"
   ]
  },
  {
   "cell_type": "code",
   "execution_count": 117,
   "id": "f99764ef",
   "metadata": {},
   "outputs": [],
   "source": [
    "A = [0, 1, 2, 3, 4, 5, 6,  8, 9, 10, 11, 12, 13, 14]"
   ]
  },
  {
   "cell_type": "code",
   "execution_count": 118,
   "id": "3dcaca60",
   "metadata": {},
   "outputs": [],
   "source": [
    "def solution(A):\n",
    "    \n",
    "    A_list=list(A)\n",
    "    min_number=min(A)\n",
    "    max_number=max(A)\n",
    "    \n",
    "    all_numbers=list(range(min_number, max_number+1))\n",
    "    \n",
    "    missing_element=set(all_numbers)-set(A_list)\n",
    "    missing_element_integer=list(missing_element)[0]\n",
    "    \n",
    "#     missing_element_integer=sum(all_numbers)-sum(A_list)\n",
    "    \n",
    "    return missing_element_integer"
   ]
  },
  {
   "cell_type": "code",
   "execution_count": 119,
   "id": "35da8994",
   "metadata": {},
   "outputs": [
    {
     "name": "stdout",
     "output_type": "stream",
     "text": [
      "2.47 µs ± 88.3 ns per loop (mean ± std. dev. of 7 runs, 100000 loops each)\n"
     ]
    }
   ],
   "source": [
    "%timeit solution(A)"
   ]
  },
  {
   "cell_type": "code",
   "execution_count": null,
   "id": "d575525e",
   "metadata": {},
   "outputs": [],
   "source": []
  }
 ],
 "metadata": {
  "kernelspec": {
   "display_name": "Python 3",
   "language": "python",
   "name": "python3"
  },
  "language_info": {
   "codemirror_mode": {
    "name": "ipython",
    "version": 3
   },
   "file_extension": ".py",
   "mimetype": "text/x-python",
   "name": "python",
   "nbconvert_exporter": "python",
   "pygments_lexer": "ipython3",
   "version": "3.6.9"
  }
 },
 "nbformat": 4,
 "nbformat_minor": 5
}
