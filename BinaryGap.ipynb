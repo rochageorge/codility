{
 "cells": [
  {
   "cell_type": "markdown",
   "id": "7aa066ad",
   "metadata": {},
   "source": [
    "## A binary gap within a positive integer N is any maximal sequence of consecutive zeros that is surrounded by ones at both ends in the binary representation of N.\n",
    "\n",
    "#### For example:\n",
    "\n",
    "    The number 9 has binary representation 1001 and contains a binary gap of length 2. \n",
    "    The number 529 has binary representation 1000010001 and contains two binary gaps: ( one of length 4 and one of length 3.)\n",
    "    \n",
    "The number 20 has binary representation 10100 and contains one binary gap of length 1. \n",
    "The number 15 has binary representation 1111 and has no binary gaps.\n",
    "\n",
    "#### Write a function:\n",
    "\n",
    "    def solution(N) that, given a positive integer N, returns the length of its longest binary gap.\n",
    "\n",
    "The function should return 0 if N doesn't contain a binary gap.\n",
    "\n",
    "For example, given N = 1041 the function should return 5, because N has binary representation 10000010001 and so its longest binary gap is of length 5.\n",
    "\n",
    "#### Assume that:\n",
    "    \n",
    "    N is an integer within the range [1..2,147,483,647].\n",
    "\n",
    "#### Complexity:\n",
    "    \n",
    "    expected worst-case time complexity is O(log(N));\n",
    "    expected worst-case space complexity is O(1)."
   ]
  },
  {
   "cell_type": "code",
   "execution_count": 1,
   "id": "e3caf51e",
   "metadata": {},
   "outputs": [],
   "source": [
    "# !pip install big-O"
   ]
  },
  {
   "cell_type": "code",
   "execution_count": 2,
   "id": "287b21ee",
   "metadata": {},
   "outputs": [],
   "source": [
    "import re\n",
    "import big_o"
   ]
  },
  {
   "cell_type": "code",
   "execution_count": 3,
   "id": "5abe43c6",
   "metadata": {},
   "outputs": [],
   "source": [
    "def solution(N: int) -> int:\n",
    "    \n",
    "    \n",
    "    binary_number = bin(N)[2:] # Note: [2:] removes '0b' from string. E.g: returns '0b11' when N=3   \n",
    "    \n",
    "    zeros_list = re.findall(r'0+', binary_number)   \n",
    "    \n",
    "    if len(zeros_list)>0:\n",
    "    \n",
    "        max_zero_count=len(max(zeros_list))\n",
    "    \n",
    "    else:\n",
    "        \n",
    "        max_zero_count=0\n",
    "    \n",
    "    return max_zero_count"
   ]
  },
  {
   "cell_type": "code",
   "execution_count": 4,
   "id": "ebc6efa9",
   "metadata": {},
   "outputs": [
    {
     "name": "stdout",
     "output_type": "stream",
     "text": [
      "1.15 µs ± 220 ns per loop (mean ± std. dev. of 7 runs, 1000000 loops each)\n"
     ]
    }
   ],
   "source": [
    "%timeit solution(1)"
   ]
  },
  {
   "cell_type": "code",
   "execution_count": 5,
   "id": "32077470",
   "metadata": {},
   "outputs": [
    {
     "name": "stdout",
     "output_type": "stream",
     "text": [
      "1.65 µs ± 99.2 ns per loop (mean ± std. dev. of 7 runs, 1000000 loops each)\n"
     ]
    }
   ],
   "source": [
    "%timeit solution(10)"
   ]
  },
  {
   "cell_type": "code",
   "execution_count": 6,
   "id": "6562e089",
   "metadata": {},
   "outputs": [
    {
     "name": "stdout",
     "output_type": "stream",
     "text": [
      "1.75 µs ± 208 ns per loop (mean ± std. dev. of 7 runs, 1000000 loops each)\n"
     ]
    }
   ],
   "source": [
    "%timeit solution(100)"
   ]
  },
  {
   "cell_type": "code",
   "execution_count": 7,
   "id": "1e745eca",
   "metadata": {},
   "outputs": [
    {
     "name": "stdout",
     "output_type": "stream",
     "text": [
      "1.78 µs ± 237 ns per loop (mean ± std. dev. of 7 runs, 1000000 loops each)\n"
     ]
    }
   ],
   "source": [
    "%timeit solution(1000)"
   ]
  },
  {
   "cell_type": "code",
   "execution_count": 8,
   "id": "c46110ec",
   "metadata": {},
   "outputs": [
    {
     "name": "stdout",
     "output_type": "stream",
     "text": [
      "2.02 µs ± 199 ns per loop (mean ± std. dev. of 7 runs, 1000000 loops each)\n"
     ]
    }
   ],
   "source": [
    "%timeit solution(10000)"
   ]
  },
  {
   "cell_type": "code",
   "execution_count": null,
   "id": "0fc1adf4",
   "metadata": {},
   "outputs": [],
   "source": []
  }
 ],
 "metadata": {
  "kernelspec": {
   "display_name": "Python 3",
   "language": "python",
   "name": "python3"
  },
  "language_info": {
   "codemirror_mode": {
    "name": "ipython",
    "version": 3
   },
   "file_extension": ".py",
   "mimetype": "text/x-python",
   "name": "python",
   "nbconvert_exporter": "python",
   "pygments_lexer": "ipython3",
   "version": "3.6.9"
  }
 },
 "nbformat": 4,
 "nbformat_minor": 5
}
