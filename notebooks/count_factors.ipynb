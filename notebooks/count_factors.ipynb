{
 "cells": [
  {
   "cell_type": "markdown",
   "id": "ea15cc0b",
   "metadata": {},
   "source": [
    "A positive integer D is a factor of a positive integer N. if there exists an integer M such that N = D * M.\n",
    "For example, 6 is a factor of 24, because M = 4 satisfies the above condition (24 = 6 * 4).\n",
    "#### Write a function:\n",
    "    def solution(N)\n",
    "that, given a positive integer N, returns the number of its factors. For example, given N = 24, the function should return 8, because 24 has 8 factors, namely 1, 2, 3, 4, 6, 8, 12, 24. There are no other factors of 24.\n",
    "#### Assume that:\n",
    "    N is an integer within the range [1..2,147,483,647].\n",
    "#### Complexity:\n",
    "    expected worst-case time complexity is O(sqrt(N));\n",
    "    expected worst-case space complexity is O(1)."
   ]
  },
  {
   "cell_type": "markdown",
   "id": "b3787e2d",
   "metadata": {},
   "source": [
    "N = 24, the function should return 8, because 24 has 8 factors\n",
    "namely 1, 2, 3, 4, 6, 8, 12, 24. There are no other factors of 24."
   ]
  },
  {
   "cell_type": "code",
   "execution_count": 123,
   "id": "ab6f072f",
   "metadata": {},
   "outputs": [],
   "source": [
    "import numpy as np\n",
    "\n",
    "def solution3(N):\n",
    "    \n",
    "    arr=np.remainder(N,np.arange(1,int(N/2)+1))\n",
    "    \n",
    "    return (arr==0).sum()+1"
   ]
  },
  {
   "cell_type": "code",
   "execution_count": 90,
   "id": "096a8bf5",
   "metadata": {},
   "outputs": [],
   "source": [
    "def solution(N):\n",
    "    \n",
    "    top=int((N)/2)+1\n",
    "    \n",
    "    factor=[number for number in range(1,top) if N%number==0]\n",
    "    factor.append(N)\n",
    "    \n",
    "    return len(factor)"
   ]
  },
  {
   "cell_type": "code",
   "execution_count": 53,
   "id": "778bd438",
   "metadata": {},
   "outputs": [],
   "source": [
    "def solution2(N):\n",
    "    result = 0\n",
    "    if N > 0:\n",
    "        i = 1\n",
    "        factors = []\n",
    "        while i**2 <= N:\n",
    "            if N % i == 0:\n",
    "                if (N / i) != i:\n",
    "                    factors.append(i)\n",
    "                    factors.append(N / i)\n",
    "                else:\n",
    "                    factors.append(i)\n",
    "            i += 1\n",
    "        result = len(factors)\n",
    "    return result"
   ]
  },
  {
   "cell_type": "code",
   "execution_count": 126,
   "id": "632c2112",
   "metadata": {},
   "outputs": [
    {
     "name": "stdout",
     "output_type": "stream",
     "text": [
      "39.7 ms ± 9.66 ms per loop (mean ± std. dev. of 7 runs, 10 loops each)\n",
      "468 µs ± 91.8 µs per loop (mean ± std. dev. of 7 runs, 1000 loops each)\n",
      "7.1 ms ± 202 µs per loop (mean ± std. dev. of 7 runs, 100 loops each)\n"
     ]
    }
   ],
   "source": [
    "%timeit  solution(1000000)\n",
    "%timeit solution2(1000000)\n",
    "%timeit solution3(1000000)"
   ]
  },
  {
   "cell_type": "code",
   "execution_count": 124,
   "id": "761920ae",
   "metadata": {},
   "outputs": [
    {
     "data": {
      "text/plain": [
       "(8, 8, 8)"
      ]
     },
     "execution_count": 124,
     "metadata": {},
     "output_type": "execute_result"
    }
   ],
   "source": [
    "solution(24), solution2(24), solution3(24)"
   ]
  },
  {
   "cell_type": "code",
   "execution_count": null,
   "id": "f793fa59",
   "metadata": {},
   "outputs": [],
   "source": []
  }
 ],
 "metadata": {
  "kernelspec": {
   "display_name": "Python 3",
   "language": "python",
   "name": "python3"
  },
  "language_info": {
   "codemirror_mode": {
    "name": "ipython",
    "version": 3
   },
   "file_extension": ".py",
   "mimetype": "text/x-python",
   "name": "python",
   "nbconvert_exporter": "python",
   "pygments_lexer": "ipython3",
   "version": "3.6.9"
  }
 },
 "nbformat": 4,
 "nbformat_minor": 5
}
