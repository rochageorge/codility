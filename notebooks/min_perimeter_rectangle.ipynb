{
 "cells": [
  {
   "cell_type": "markdown",
   "id": "f1465ad9",
   "metadata": {},
   "source": [
    "An integer N is given, representing the area of some rectangle. The area of a rectangle whose sides are of length A and B is A * B,  and the perimeter is 2 * (A + B). The goal is to find the minimal perimeter of any rectangle whose area equals N. The sides of this rectangle should be only integers.\n",
    "#### For example, given integer N = 30, rectangles of area 30 are:\n",
    "    (1, 30), with a perimeter of 62,\n",
    "    (2, 15), with a perimeter of 34,\n",
    "    (3, 10), with a perimeter of 26,\n",
    "    (5, 6), with a perimeter of 22.\n",
    "#### Write a function:\n",
    "    def solution(N)\n",
    "that, given an integer N, returns the minimal perimeter of any rectangle whose area is exactly equal to N.\n",
    "For example, given an integer N = 30, the function should return 22, as explained above.\n",
    "#### Assume that:\n",
    "    N is an integer within the range [1..1,000,000,000].\n",
    "##### Complexity:\n",
    "    expected worst-case time complexity is O(sqrt(N));\n",
    "    expected worst-case space complexity is O(1)."
   ]
  },
  {
   "cell_type": "code",
   "execution_count": 156,
   "id": "3b91f1cc",
   "metadata": {},
   "outputs": [],
   "source": [
    "def solution(N):\n",
    "    \n",
    "    if N <= 0:\n",
    "        return 0\n",
    "\n",
    "    min_perimeter=2 * (1 + N)   \n",
    "    sides=1*N\n",
    "    \n",
    "    for i in range(1,N):\n",
    "        for k in range(i,N+1):\n",
    "            if i*k==N:\n",
    "                min_perimeter=2 * (i + k)   \n",
    "                \n",
    "    return min_perimeter"
   ]
  },
  {
   "cell_type": "code",
   "execution_count": 158,
   "id": "3b276334",
   "metadata": {},
   "outputs": [],
   "source": [
    "def solution2(N):\n",
    "    result = 0\n",
    "    if N > 0:\n",
    "        i = 1\n",
    "        perimeters = []\n",
    "        while i * i <= N:\n",
    "            if N % i == 0:\n",
    "                perimeters.append(2 * (i + (N // i)))\n",
    "                i = i + 1\n",
    "                continue\n",
    "            i += 1\n",
    "        result = min(perimeters)\n",
    "    return result"
   ]
  },
  {
   "cell_type": "code",
   "execution_count": 159,
   "id": "d6ca94e9",
   "metadata": {
    "scrolled": false
   },
   "outputs": [
    {
     "data": {
      "text/plain": [
       "(0, 0)"
      ]
     },
     "execution_count": 159,
     "metadata": {},
     "output_type": "execute_result"
    }
   ],
   "source": [
    "solution(0), solution2(0)"
   ]
  },
  {
   "cell_type": "code",
   "execution_count": 161,
   "id": "e84033fe",
   "metadata": {},
   "outputs": [
    {
     "name": "stdout",
     "output_type": "stream",
     "text": [
      "30.2 µs ± 247 ns per loop (mean ± std. dev. of 7 runs, 10000 loops each)\n",
      "1.4 µs ± 221 ns per loop (mean ± std. dev. of 7 runs, 1000000 loops each)\n"
     ]
    }
   ],
   "source": [
    "%timeit solution(30)\n",
    "%timeit solution2(30)"
   ]
  },
  {
   "cell_type": "code",
   "execution_count": null,
   "id": "c782c578",
   "metadata": {},
   "outputs": [],
   "source": []
  }
 ],
 "metadata": {
  "kernelspec": {
   "display_name": "Python 3",
   "language": "python",
   "name": "python3"
  },
  "language_info": {
   "codemirror_mode": {
    "name": "ipython",
    "version": 3
   },
   "file_extension": ".py",
   "mimetype": "text/x-python",
   "name": "python",
   "nbconvert_exporter": "python",
   "pygments_lexer": "ipython3",
   "version": "3.6.9"
  }
 },
 "nbformat": 4,
 "nbformat_minor": 5
}
