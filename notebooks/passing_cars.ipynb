{
 "cells": [
  {
   "cell_type": "markdown",
   "id": "dbab7504",
   "metadata": {},
   "source": [
    "A non-empty zero-indexed array A consisting of N integers is given. The consecutive elements of array A represent consecutive cars on a road. \n",
    "#### Array A contains only 0s and/or 1s:\n",
    "    0 represents a car traveling east,\n",
    "    1 represents a car traveling west.\n",
    "The goal is to count passing cars. We say that a pair of cars (P, Q), where 0 ≤ P < Q < N, is passing when P is traveling to the east and Q is traveling to the west.\n",
    "#### For example, consider array A such that:\n",
    "    A[0] = 0\n",
    "    A[1] = 1\n",
    "    A[2] = 0\n",
    "    A[3] = 1\n",
    "    A[4] = 1\n",
    "We have five pairs of passing cars: (0, 1), (0, 3), (0, 4), (2, 3), (2, 4).\n",
    "#### Write a function:\n",
    "    def solution(A)\n",
    "that, given a non-empty zero-indexed array A of N integers, returns the number of pairs of passing cars. The function should return −1 if the number of pairs of passing cars exceeds 1,000,000,000.\n",
    "#### For example, given:\n",
    "    A[0] = 0\n",
    "    A[1] = 1\n",
    "    A[2] = 0\n",
    "    A[3] = 1\n",
    "    A[4] = 1\n",
    "the function should return 5, as explained above.\n",
    "#### Assume that:\n",
    "    N is an integer within the range [1..100,000];\n",
    "    each element of array A is an integer that can have one of the following values: 0, 1.\n",
    "#### Complexity:\n",
    "    expected worst-case time complexity is O(N);\n",
    "    expected worst-case space complexity is O(1), beyond input storage\n",
    "    (not counting the storage required for input arguments).\n",
    "    Elements of input arrays can be modified.\n"
   ]
  },
  {
   "cell_type": "code",
   "execution_count": 30,
   "id": "1d1a275d",
   "metadata": {},
   "outputs": [],
   "source": [
    "A = [0]*7\n",
    "\n",
    "A[0] = 0\n",
    "A[1] = 1\n",
    "A[2] = 0\n",
    "A[3] = 1\n",
    "A[4] = 1"
   ]
  },
  {
   "cell_type": "code",
   "execution_count": 31,
   "id": "61ad134f",
   "metadata": {},
   "outputs": [],
   "source": [
    "def solution(A):\n",
    "    \n",
    "    if len(A) > 1000000000:\n",
    "            result=-1 \n",
    "    else:\n",
    "        result=len(A)\n",
    "    \n",
    "    return result"
   ]
  },
  {
   "cell_type": "code",
   "execution_count": 32,
   "id": "e93e33ab",
   "metadata": {},
   "outputs": [
    {
     "data": {
      "text/plain": [
       "7"
      ]
     },
     "execution_count": 32,
     "metadata": {},
     "output_type": "execute_result"
    }
   ],
   "source": [
    "solution(A)"
   ]
  },
  {
   "cell_type": "code",
   "execution_count": 33,
   "id": "7c5f56a0",
   "metadata": {},
   "outputs": [],
   "source": [
    "def solution2(numbers):\n",
    "    going_east = 0\n",
    "    passing = 0\n",
    "    for num in numbers:\n",
    "        if num == 0:\n",
    "            going_east += 1\n",
    "        else:\n",
    "            passing += going_east\n",
    "            if passing > 10 ** 9:\n",
    "                return -1\n",
    "    return passing"
   ]
  },
  {
   "cell_type": "code",
   "execution_count": 34,
   "id": "e10a7a75",
   "metadata": {},
   "outputs": [
    {
     "data": {
      "text/plain": [
       "5"
      ]
     },
     "execution_count": 34,
     "metadata": {},
     "output_type": "execute_result"
    }
   ],
   "source": [
    "solution2(A)"
   ]
  },
  {
   "cell_type": "code",
   "execution_count": null,
   "id": "7a85322f",
   "metadata": {},
   "outputs": [],
   "source": []
  }
 ],
 "metadata": {
  "kernelspec": {
   "display_name": "Python 3",
   "language": "python",
   "name": "python3"
  },
  "language_info": {
   "codemirror_mode": {
    "name": "ipython",
    "version": 3
   },
   "file_extension": ".py",
   "mimetype": "text/x-python",
   "name": "python",
   "nbconvert_exporter": "python",
   "pygments_lexer": "ipython3",
   "version": "3.6.9"
  }
 },
 "nbformat": 4,
 "nbformat_minor": 5
}
