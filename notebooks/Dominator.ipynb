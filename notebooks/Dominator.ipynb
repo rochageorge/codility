{
 "cells": [
  {
   "cell_type": "markdown",
   "id": "526be201",
   "metadata": {},
   "source": [
    "A zero-indexed array A consisting of N integers is given. The dominator of array A is the value that occurs in more than half of the elements of A.\n",
    "##### For example, consider array A such that:\n",
    "     A[0] = 3    \n",
    "     A[1] = 4    \n",
    "     A[2] = 3\n",
    "     A[3] = 2    \n",
    "     A[4] = 3    \n",
    "     A[5] = -1\n",
    "     A[6] = 3    \n",
    "     A[7] = 3\n",
    "The dominator of A is 3 because it occurs in 5 out of 8 elements of A (namely in those with indices 0, 2, 4, 6 and 7) and 5 is more than a half of 8.\n",
    "#### Write a function\n",
    "    def solution(A)\n",
    "that, given a zero-indexed array A consisting of N integers, returns index of any element of array A in which the dominator of A occurs.The function should return −1 if array A does not have a dominator.\n",
    "#### Assume that:\n",
    "    N is an integer within the range [0..100,000];\n",
    "    each element of array A is an integer within the range [−2,147,483,648..2,147,483,647].\n",
    "#### For example, given array A such that\n",
    "     A[0] = 3    \n",
    "     A[1] = 4    \n",
    "     A[2] = 3\n",
    "     A[3] = 2    \n",
    "     A[4] = 3    \n",
    "     A[5] = -1\n",
    "     A[6] = 3    \n",
    "     A[7] = 3\n",
    "the function may return 0, 2, 4, 6 or 7, as explained above.\n",
    "#### Complexity:\n",
    "    expected worst-case time complexity is O(N);\n",
    "    expected worst-case space complexity is O(1),\n",
    "    beyond input storage (not counting the storage required for input arguments).\n",
    "    Elements of input arrays can be modified."
   ]
  },
  {
   "cell_type": "code",
   "execution_count": 61,
   "id": "b13d87cf",
   "metadata": {},
   "outputs": [],
   "source": [
    "A = [3, 4, 3, 2, 3, -1, 3, 3]"
   ]
  },
  {
   "cell_type": "markdown",
   "id": "2b18481e",
   "metadata": {},
   "source": [
    "    1 - Count the frequency\n",
    "    2 - Find the dominator\n",
    "    3 - Return indexes of domintor"
   ]
  },
  {
   "cell_type": "code",
   "execution_count": 62,
   "id": "7e4dbcb4",
   "metadata": {},
   "outputs": [],
   "source": [
    "def solution(A):\n",
    "    \n",
    "    \n",
    "    dic={}\n",
    "    unique_A=list(set(A))\n",
    "    \n",
    "    # Create a dictionary with the number as key and the frequency as value\n",
    "    [dic.update({number:A.count(number)}) for number in unique_A]\n",
    "    \n",
    "    # Find the key acoording to the max value \n",
    "    dominator=max(dic,key=dic.get)\n",
    "    \n",
    "    # Get index of the dominator\n",
    "    indexes=[i for i in range(len(A)) if A[i]==dominator]\n",
    "    \n",
    "    if len(indexes)>len(A)/2:   \n",
    "        return indexes\n",
    "    else:\n",
    "        return 0"
   ]
  },
  {
   "cell_type": "code",
   "execution_count": 68,
   "id": "e189b70a",
   "metadata": {},
   "outputs": [
    {
     "data": {
      "text/plain": [
       "[0, 2, 4, 6, 7]"
      ]
     },
     "execution_count": 68,
     "metadata": {},
     "output_type": "execute_result"
    }
   ],
   "source": [
    "solution(A)"
   ]
  },
  {
   "cell_type": "code",
   "execution_count": null,
   "id": "503c88de",
   "metadata": {},
   "outputs": [],
   "source": []
  }
 ],
 "metadata": {
  "kernelspec": {
   "display_name": "Python 3",
   "language": "python",
   "name": "python3"
  },
  "language_info": {
   "codemirror_mode": {
    "name": "ipython",
    "version": 3
   },
   "file_extension": ".py",
   "mimetype": "text/x-python",
   "name": "python",
   "nbconvert_exporter": "python",
   "pygments_lexer": "ipython3",
   "version": "3.6.9"
  }
 },
 "nbformat": 4,
 "nbformat_minor": 5
}
