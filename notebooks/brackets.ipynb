{
 "cells": [
  {
   "cell_type": "markdown",
   "id": "68725bc0",
   "metadata": {},
   "source": [
    "#### A string S consisting of N characters is considered to be properly nested if any of the following conditions is true:\n",
    "    S is empty;\n",
    "    S has the form \"(U)\" or \"[U]\" or \"{U}\" where U is a properly nested string;\n",
    "    S has the form \"VW\" where V and W are properly nested strings.\n",
    "For example, the string \"{[()()]}\" is properly nested but \"([)()]\" is not.\n",
    "#### Write a function:\n",
    "    def solution(S)\n",
    "that, given a string S consisting of N characters, returns 1 if S is properly nested and 0 otherwise.\n",
    "For example, given S = \"{[()()]}\", the function should return 1 and given S = \"([)()]\", the function should return 0, as explained above.\n",
    "#### Assume that:\n",
    "    N is an integer within the range [0..200,000];\n",
    "    string S consists only of the following characters: \"(\", \"{\", \"[\", \"]\", \"}\" and/or \")\".\n",
    "#### Complexity:\n",
    "    expected worst-case time complexity is O(N);\n",
    "    expected worst-case space complexity is O(N)\n",
    "    (not counting the storage required for input arguments)."
   ]
  },
  {
   "cell_type": "code",
   "execution_count": 138,
   "id": "65795cb2",
   "metadata": {},
   "outputs": [],
   "source": [
    "import re"
   ]
  },
  {
   "cell_type": "code",
   "execution_count": 458,
   "id": "aa2ebc46",
   "metadata": {},
   "outputs": [],
   "source": [
    "s1='{[()()]}' # Nested returns 1\n",
    "s2=\"([)()]\" # Unested returns 0\n",
    "s3 = ''\n",
    "s4='(mhuhu)'\n",
    "s5='[42]'\n",
    "s6='{}[]{}[]{}[]{}[]{}[]{}[]{}[]{}[]{}[]{}[]{}[]{}[]{}[]{}[]{}[]{}[]{}[]{{}[]{}[]{}[]{}[]{}[]{}[]{}[]{}[]{}[]{}[]{}[]{}[]{}[]{}[]{}[]{}[]{}[]{{}[]{}[]{}[]{}[]{}[]{}[]{}[]{}[]{}[]{}[]{}[]{}[]{}[]{}[]{}[]{}[]{}[]{{}[]{}[]{}[]{}[]{}[]{}[]{}[]{}[]{}[]{}[]{}[]{}[]{}[]{}[]{}[]{}[]{}[]{{}[]{}[]{}[]{}[]{}[]{}[]{}[]{}[]{}[]{}[]{}[]{}[]{}[]{}[]{}[]{}[]{}[]{{}[]{}[]{}[]{}[]{}[]{}[]{}[]{}[]{}[]{}[]{}[]{}[]{}[]{}[]{}[]{}[]{}[]{{}[]{}[]{}[]{}[]{}[]{}[]{}[]{}[]{}[]{}[]{}[]{}[]{}[]{}[]{}[]{}[]{}[]{{}[]{}[]{}[]{}[]{}[]{}[]{}[]{}[]{}[]{}[]{}[]{}[]{}[]{{}[]{}[]{}[]{}[]{}[]{}[]{}[]{}[]{}[]{}[]{}[]{}[]{}[]{}[]{}[]{}[]{}[]{{}[]{}[]{}[]{}[]{}[]{}[]{}[]{}[]{}[]{}[]{}[]{}[]{}[]{}[]{}[]{}[]{}[]{{}[]{}[]{}[]{}[]{}[]{}[]{}[]{}[]{}[]{}[]{}[]{}[]{}[]{}[]{}[]{}[]{}[]{{}[]{}[]{}[]{}[]{}[]{}[]{}[]{}[]{}[]{}[]{}[]{}[]{}[]{}[]{}[]{}[]{}[]{{}[]{}[]{}[]{}[]{}[]{}[]{}[]{}[]{}[]{}[]{}[]{}[]{}[]{}[]{}[]{}[]{}[]{{}[]{}[]{}[]{}[]{}[]{}[]{}[]{}[]{}[]{}[]{}[]{}[]{}[]{}[]{}[]{}[]{}[]{{}[]{}[]{}[]{}[]{}[]{}[]{}[]{}[]{}[]{}[]{}[]{}[]{}[]{{}[]{}[]{}[]{}[]{}[]{}[]{}[]{}[]{}[]{}[]{}[]{}[]{}[]{}[]{}[]{}[]{}[]{{}[]{}[]{}[]{}[]{}[]{}[]{}[]{}[]{}[]{}[]{}[]{}[]{}[]{}[]{}[]{}[]{}[]{{}[]{}[]{}[]{}[]{}[]{}[]{}[]{}[]{}[]{}[]{}[]{}[]{}[]{}[]{}[]{}[]{}[]{{}[]{}[]{}[]{}[]{}[]{}[]{}[]{}[]{}[]{}[]{}[]{}[]{}[]{}[]{}[]{}[]{}[]{{}[]{}[]{}[]{}[]{}[]{}[]{}[]{}[]{}[]{}[]{}[]{}[]{}[]{}[]{}[]{}[]{}[]{{}[]{}[]{}[]{}[]{}[]{}[]{}[]{}[]{}[]{}[]{}[]{}[]{}[]{}[]{}[]{}[]{}[]{{}[]{}[]{}[]{}[]{}[]{}[]{}[]{}[]{}[]{}[]{}[]{}[]{}[]{{}[]{}[]{}[]{}[]{}[]{}[]{}[]{}[]{}[]{}[]{}[]{}[]{}[]{}[]{}[]{}[]{}[]{{}[]{}[]{}[]{}[]{}[]{}[]{}[]{}[]{}[]{}[]{}[]{}[]{}[]{}[]{}[]{}[]{}[]{{}[]{}[]{}[]{}[]{}[]{}[]{}[]{}[]{}[]{}[]{}[]{}[]{}[]{}[]{}[]{}[]{}[]{{}[]{}[]{}[]{}[]{}[]{}[]{}[]{}[]{}[]{}[]{}[]{}[]{}[]{}[]{}[]{}[]{}[]{{}[]{}[]{}[]{}[]{}[]{}[]{}[]{}[]{}[]{}[]{}[]{}[]{}[]{}[]{}[]{}[]{}[]{{}[]{}[]{}[]{}[]{}[]{}[]{}[]{}[]{}[]{}[]{}[]{}[]{}[]{}[]{}[]{}[]{}[]{{}[]{}[]{}[]{}[]{}[]{}[]{}[]{}[]{}[]{}[]{}[]{}[]{}[]{{}[]{}[]{}[]{}[]{}[]{}[]{}[]{}[]{}[]{}[]{}[]{}[]{}[]{}[]{}[]{}[]{}[]{{}[]{}[]{}[]{}[]{}[]{}[]{}[]{}[]{}[]{}[]{}[]{}[]{}[]{}[]{}[]{}[]{}[]{{}[]{}[]{}[]{}[]{}[]{}[]{}[]{}[]{}[]{}[]{}[]{}[]{}[]{}[]{}[]{}[]{}[]{{}[]{}[]{}[]{}[]{}[]{}[]{}[]{}[]{}[]{}[]{}[]{}[]{}[]{}[]{}[]{}[]{}[]{{}[]{}[]{}[]{}[]{}[]{}[]{}[]{}[]{}[]{}[]{}[]{}[]{}[]{}[]{}[]{}[]{}[]{{}[]{}[]{}[]{}[]{}[]{}[]{}[]{}[]{}[]{}[]{}[]{}[]{}[]{}[]{}[]{}[]{}[]{'"
   ]
  },
  {
   "cell_type": "code",
   "execution_count": 447,
   "id": "36996049",
   "metadata": {},
   "outputs": [
    {
     "data": {
      "text/plain": [
       "0"
      ]
     },
     "execution_count": 447,
     "metadata": {},
     "output_type": "execute_result"
    }
   ],
   "source": [
    "def solution(s):\n",
    "\n",
    "\n",
    "    pattern=re.compile(r'(^$)|^[\\(].*(?<=\\))|^\\[.*(?<=\\])|^\\{.*(?<=\\})')\n",
    "    match=re.search(pattern, s)\n",
    "\n",
    "    if match:\n",
    "        stripped_string = s.replace(match.group(),'')\n",
    "        \n",
    "        if len(stripped_string)==0:\n",
    "            return 1\n",
    "        \n",
    "        else:\n",
    "            return solution(stripped_string)\n",
    "        \n",
    "    else:\n",
    "        return 0\n",
    "    \n",
    "solution(s2)"
   ]
  },
  {
   "cell_type": "code",
   "execution_count": 448,
   "id": "4fdfe6b9",
   "metadata": {},
   "outputs": [],
   "source": [
    "CLOSING = {\n",
    "    ']': '[',\n",
    "    ')': '(',\n",
    "    '}': '{',\n",
    "}\n",
    "\n",
    "\n",
    "def solution2(S):\n",
    "    stack = []\n",
    "    for ch in S:\n",
    "        if ch in CLOSING:\n",
    "            if not stack:\n",
    "                # encountered closing bracket but stack is already empty!\n",
    "                return 0\n",
    "            last = stack.pop()\n",
    "            if last != CLOSING[ch]:\n",
    "                # wrong bracket encountered\n",
    "                return 0\n",
    "        else:\n",
    "            stack.append(ch)\n",
    "    if stack:\n",
    "        # there are still opened brackets on a stack\n",
    "        return 0\n",
    "    else:\n",
    "        return 1"
   ]
  },
  {
   "cell_type": "code",
   "execution_count": 444,
   "id": "a2b3157d",
   "metadata": {},
   "outputs": [
    {
     "name": "stdout",
     "output_type": "stream",
     "text": [
      "1.91 µs ± 27.3 ns per loop (mean ± std. dev. of 7 runs, 1000000 loops each)\n",
      "1.17 µs ± 2.4 ns per loop (mean ± std. dev. of 7 runs, 1000000 loops each)\n"
     ]
    }
   ],
   "source": [
    "%timeit solution(s1)\n",
    "%timeit solution2(s1)"
   ]
  },
  {
   "cell_type": "code",
   "execution_count": 454,
   "id": "886aa51c",
   "metadata": {},
   "outputs": [
    {
     "name": "stdout",
     "output_type": "stream",
     "text": [
      "3.68 µs ± 50.6 ns per loop (mean ± std. dev. of 7 runs, 100000 loops each)\n",
      "479 ns ± 6.19 ns per loop (mean ± std. dev. of 7 runs, 1000000 loops each)\n"
     ]
    }
   ],
   "source": [
    "%timeit solution(s2)\n",
    "%timeit solution2(s2)"
   ]
  },
  {
   "cell_type": "code",
   "execution_count": 459,
   "id": "e79500cb",
   "metadata": {},
   "outputs": [
    {
     "name": "stdout",
     "output_type": "stream",
     "text": [
      "17.5 µs ± 32.3 ns per loop (mean ± std. dev. of 7 runs, 100000 loops each)\n",
      "282 µs ± 434 ns per loop (mean ± std. dev. of 7 runs, 1000 loops each)\n"
     ]
    }
   ],
   "source": [
    "%timeit solution(s6)\n",
    "%timeit solution2(s6)"
   ]
  },
  {
   "cell_type": "code",
   "execution_count": 460,
   "id": "efe779bf",
   "metadata": {},
   "outputs": [
    {
     "data": {
      "text/plain": [
       "2351"
      ]
     },
     "execution_count": 460,
     "metadata": {},
     "output_type": "execute_result"
    }
   ],
   "source": [
    "len(s6)"
   ]
  },
  {
   "cell_type": "code",
   "execution_count": null,
   "id": "76f3abec",
   "metadata": {},
   "outputs": [],
   "source": []
  }
 ],
 "metadata": {
  "kernelspec": {
   "display_name": "Python 3",
   "language": "python",
   "name": "python3"
  },
  "language_info": {
   "codemirror_mode": {
    "name": "ipython",
    "version": 3
   },
   "file_extension": ".py",
   "mimetype": "text/x-python",
   "name": "python",
   "nbconvert_exporter": "python",
   "pygments_lexer": "ipython3",
   "version": "3.6.9"
  }
 },
 "nbformat": 4,
 "nbformat_minor": 5
}
