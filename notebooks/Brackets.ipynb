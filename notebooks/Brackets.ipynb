{
 "cells": [
  {
   "cell_type": "markdown",
   "id": "68725bc0",
   "metadata": {},
   "source": [
    "#### A string S consisting of N characters is considered to be properly nested if any of the following conditions is true:\n",
    "    S is empty;\n",
    "    S has the form \"(U)\" or \"[U]\" or \"{U}\" where U is a properly nested string;\n",
    "    S has the form \"VW\" where V and W are properly nested strings.\n",
    "For example, the string \"{[()()]}\" is properly nested but \"([)()]\" is not.\n",
    "#### Write a function:\n",
    "    def solution(S)\n",
    "that, given a string S consisting of N characters, returns 1 if S is properly nested and 0 otherwise.\n",
    "For example, given S = \"{[()()]}\", the function should return 1 and given S = \"([)()]\", the function should return 0, as explained above.\n",
    "#### Assume that:\n",
    "    N is an integer within the range [0..200,000];\n",
    "    string S consists only of the following characters: \"(\", \"{\", \"[\", \"]\", \"}\" and/or \")\".\n",
    "#### Complexity:\n",
    "    expected worst-case time complexity is O(N);\n",
    "    expected worst-case space complexity is O(N)\n",
    "    (not counting the storage required for input arguments)."
   ]
  },
  {
   "cell_type": "code",
   "execution_count": 138,
   "id": "65795cb2",
   "metadata": {},
   "outputs": [],
   "source": [
    "import re"
   ]
  },
  {
   "cell_type": "code",
   "execution_count": 433,
   "id": "aa2ebc46",
   "metadata": {},
   "outputs": [],
   "source": [
    "s1='{[()()]}' # Nested returns 1\n",
    "s2=\"([)()]\" # Unested returns 0\n",
    "s3 = ''\n",
    "s4='(mhuhu)'\n",
    "s5='[42]'\n",
    "s6='{}[]'"
   ]
  },
  {
   "cell_type": "code",
   "execution_count": 437,
   "id": "c6eb5846",
   "metadata": {},
   "outputs": [
    {
     "data": {
      "text/plain": [
       "0"
      ]
     },
     "execution_count": 437,
     "metadata": {},
     "output_type": "execute_result"
    }
   ],
   "source": [
    "def solution(s):\n",
    "\n",
    "\n",
    "    pattern=re.compile(r'(^$)|^[\\(].*(?<=\\))|^\\[.*(?<=\\])|^\\{.*(?<=\\})')\n",
    "    match=re.search(pattern, s)\n",
    "\n",
    "    if match:\n",
    "        stripped_string = s.replace(match.group(),'')\n",
    "        \n",
    "        if len(stripped_string)==0:\n",
    "            return 1\n",
    "        else:\n",
    "            return solution(stripped_string)\n",
    "    else:\n",
    "        return 0\n",
    "    \n",
    "solution(s2)"
   ]
  },
  {
   "cell_type": "code",
   "execution_count": null,
   "id": "a31d70da",
   "metadata": {},
   "outputs": [],
   "source": []
  },
  {
   "cell_type": "code",
   "execution_count": null,
   "id": "c2d5b44c",
   "metadata": {},
   "outputs": [],
   "source": []
  }
 ],
 "metadata": {
  "kernelspec": {
   "display_name": "Python 3",
   "language": "python",
   "name": "python3"
  },
  "language_info": {
   "codemirror_mode": {
    "name": "ipython",
    "version": 3
   },
   "file_extension": ".py",
   "mimetype": "text/x-python",
   "name": "python",
   "nbconvert_exporter": "python",
   "pygments_lexer": "ipython3",
   "version": "3.6.9"
  }
 },
 "nbformat": 4,
 "nbformat_minor": 5
}
