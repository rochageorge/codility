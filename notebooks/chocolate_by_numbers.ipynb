{
 "cells": [
  {
   "cell_type": "markdown",
   "id": "d382baf6",
   "metadata": {},
   "source": [
    "Two positive integers N and M are given. Integer N represents the number of chocolates arranged in a circle, numbered from 0 to N − 1. You start to eat the chocolates. After eating a chocolate you  leave only a wrapper. You begin with eating chocolate number 0.  Then you omit the next M − 1 chocolates or wrappers on the circle,  and eat the following one.More precisely, if you ate chocolate number X, then you will next eat the chocolate with number (X + M) modulo N (remainder of division). You stop eating when you encounter an empty wrapper.\n",
    "#### For example:\n",
    "    given integers N = 10 and M = 4.\n",
    "You will eat the following chocolates: 0, 4, 8, 2, 6. The goal is to count the number of chocolates that you will eat, following the above rules.\n",
    "#### Write a function:\n",
    "    def solution(N, M)\n",
    "that, given two positive integers N and M, returns the number of chocolates that you will eat.\n",
    "For example, given integers N = 10 and M = 4. the function should return 5, as explained above.\n",
    "#### Assume that:\n",
    "    N and M are integers within the range [1..1,000,000,000].\n",
    "#### Complexity:\n",
    "    * expected worst-case time complexity is O(log(N+M));\n",
    "    * expected worst-case space complexity is O(log(N+M))."
   ]
  },
  {
   "cell_type": "code",
   "execution_count": 103,
   "id": "4aa58b1c",
   "metadata": {},
   "outputs": [],
   "source": [
    "def solution(N, M):\n",
    "    A = [1]*N\n",
    "    leng=len(A)\n",
    "\n",
    "    S=0\n",
    "    index=[]\n",
    "\n",
    "    for i in range(leng):\n",
    "        if S<leng and A[S]==1:\n",
    "            A[S]=0\n",
    "            index.append(S)\n",
    "            S+=M\n",
    "        elif S>leng:\n",
    "            S=S-leng\n",
    "        else:\n",
    "            break\n",
    "    return len(index)"
   ]
  },
  {
   "cell_type": "code",
   "execution_count": 104,
   "id": "8d723a96",
   "metadata": {},
   "outputs": [],
   "source": [
    "def solution2(N, M):\n",
    "    x = 0\n",
    "    while x != 1:\n",
    "        x = N\n",
    "        y = M\n",
    "        while y != 0:\n",
    "            (x, y) = (y, x % y)\n",
    "        N = N // x\n",
    "        M = M // x\n",
    "    return N"
   ]
  },
  {
   "cell_type": "code",
   "execution_count": 107,
   "id": "d8019e37",
   "metadata": {},
   "outputs": [
    {
     "data": {
      "text/plain": [
       "(5, 5)"
      ]
     },
     "execution_count": 107,
     "metadata": {},
     "output_type": "execute_result"
    }
   ],
   "source": [
    "solution(10, 4),solution2(10, 4)"
   ]
  },
  {
   "cell_type": "code",
   "execution_count": 108,
   "id": "9bb10e37",
   "metadata": {},
   "outputs": [
    {
     "name": "stdout",
     "output_type": "stream",
     "text": [
      "1.56 µs ± 264 ns per loop (mean ± std. dev. of 7 runs, 1000000 loops each)\n",
      "573 ns ± 120 ns per loop (mean ± std. dev. of 7 runs, 1000000 loops each)\n"
     ]
    }
   ],
   "source": [
    "%timeit solution(10, 4)\n",
    "%timeit solution2(10, 4)"
   ]
  },
  {
   "cell_type": "code",
   "execution_count": null,
   "id": "5044a75c",
   "metadata": {},
   "outputs": [],
   "source": []
  }
 ],
 "metadata": {
  "kernelspec": {
   "display_name": "Python 3",
   "language": "python",
   "name": "python3"
  },
  "language_info": {
   "codemirror_mode": {
    "name": "ipython",
    "version": 3
   },
   "file_extension": ".py",
   "mimetype": "text/x-python",
   "name": "python",
   "nbconvert_exporter": "python",
   "pygments_lexer": "ipython3",
   "version": "3.6.9"
  }
 },
 "nbformat": 4,
 "nbformat_minor": 5
}
