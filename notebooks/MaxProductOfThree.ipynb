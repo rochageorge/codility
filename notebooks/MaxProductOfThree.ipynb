{
 "cells": [
  {
   "cell_type": "markdown",
   "id": "f6b3816f",
   "metadata": {},
   "source": [
    "A non-empty zero-indexed array A consisting of N integers is given. The product of triplet(P, Q, R) equates to A[P] * A[Q] * A[R] (0 ≤ P < Q < R < N).\n",
    "#### For example, array A such that:\n",
    "    A[0] = -3\n",
    "    A[1] = 1\n",
    "    A[2] = 2\n",
    "    A[3] = -2\n",
    "    A[4] = 5\n",
    "    A[5] = 6\n",
    "#### contains the following example triplets:\n",
    "    (0, 1, 2), product is −3 * 1 * 2 = −6\n",
    "    (1, 2, 4), product is 1 * 2 * 5 = 10\n",
    "    (2, 4, 5), product is 2 * 5 * 6 = 60\n",
    "Your goal is to find the maximal product of any triplet.\n",
    "#### Write a function:\n",
    "    def solution(A)\n",
    "that, given a non-empty zero-indexed array A, returns the value of the maximal product of any triplet.\n",
    "#### For example, given array A such that:\n",
    "    A[0] = -3\n",
    "    A[1] = 1\n",
    "    A[2] = 2\n",
    "    A[3] = -2\n",
    "    A[4] = 5\n",
    "    A[5] = 6\n",
    "the function should return 60, as the product of triplet (2, 4, 5) is maximal.\n",
    "#### Assume that:\n",
    "    N is an integer within the range [3..100,000];\n",
    "    each element of array A is an integer within the range [−1,000..1,000].\n",
    "#### Complexity:\n",
    "    expected worst-case time complexity is O(N*log(N));\n",
    "    expected worst-case space complexity is O(1), beyond input storage\n",
    "    (not counting the storage required for input arguments).\n",
    "    Elements of input arrays can be modified.\n"
   ]
  },
  {
   "cell_type": "code",
   "execution_count": 51,
   "id": "f69bc21c",
   "metadata": {},
   "outputs": [],
   "source": [
    "import numpy as np"
   ]
  },
  {
   "cell_type": "code",
   "execution_count": 93,
   "id": "a4614b99",
   "metadata": {},
   "outputs": [],
   "source": [
    "A = [-3, 1, 2, -2, 5, 6]*10000000"
   ]
  },
  {
   "cell_type": "code",
   "execution_count": 97,
   "id": "502d69dc",
   "metadata": {},
   "outputs": [],
   "source": [
    "def solution(A):\n",
    "    \n",
    "    \n",
    "#     arr = np.array(A)\n",
    "#     R = arr[arr.argmax()]\n",
    "#     arr = np.delete(arr,arr.argmax(), 0)\n",
    "#     Q = arr[arr.argmax()]\n",
    "#     arr = np.delete(arr,arr.argmax(), 0)\n",
    "#     P = arr[arr.argmax()]\n",
    "#     arr = np.delete(arr,arr.argmax(), 0)\n",
    "    \n",
    "    R = max(A)\n",
    "    A.remove(max(A))\n",
    "    Q = max(A)\n",
    "    A.remove(max(A))\n",
    "    P = max(A)\n",
    "    A.remove(max(A))\n",
    "    \n",
    "    max_triplet = P*Q*R\n",
    "    return max_triplet"
   ]
  },
  {
   "cell_type": "code",
   "execution_count": 98,
   "id": "40a9338c",
   "metadata": {},
   "outputs": [],
   "source": [
    "def solution2(A):\n",
    "    A = sorted(A)\n",
    "    return max(A[-1] * A[-2] * A[-3], A[0] * A[1] * A[-1])"
   ]
  },
  {
   "cell_type": "code",
   "execution_count": 99,
   "id": "a834cc36",
   "metadata": {},
   "outputs": [
    {
     "name": "stdout",
     "output_type": "stream",
     "text": [
      "5.12 s ± 246 ms per loop (mean ± std. dev. of 7 runs, 1 loop each)\n",
      "6.11 s ± 15.1 ms per loop (mean ± std. dev. of 7 runs, 1 loop each)\n"
     ]
    }
   ],
   "source": [
    "%timeit solution(A)\n",
    "%timeit solution2(A)"
   ]
  },
  {
   "cell_type": "code",
   "execution_count": null,
   "id": "5776855d",
   "metadata": {},
   "outputs": [],
   "source": []
  }
 ],
 "metadata": {
  "kernelspec": {
   "display_name": "Python 3",
   "language": "python",
   "name": "python3"
  },
  "language_info": {
   "codemirror_mode": {
    "name": "ipython",
    "version": 3
   },
   "file_extension": ".py",
   "mimetype": "text/x-python",
   "name": "python",
   "nbconvert_exporter": "python",
   "pygments_lexer": "ipython3",
   "version": "3.6.9"
  }
 },
 "nbformat": 4,
 "nbformat_minor": 5
}
