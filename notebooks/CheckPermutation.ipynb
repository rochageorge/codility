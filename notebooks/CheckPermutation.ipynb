{
 "cells": [
  {
   "cell_type": "markdown",
   "id": "284aa007",
   "metadata": {},
   "source": [
    "A non-empty zero-indexed array A consisting of N integers is given. A permutation is a sequence containing each element from 1 to N once, and only once.\n",
    "\n",
    "#### For example, array A such that:\n",
    "    A[0] = 4\n",
    "    A[1] = 1\n",
    "    A[2] = 3\n",
    "    A[3] = 2\n",
    "is a permutation, but array A such that:\n",
    "    \n",
    "    A[0] = 4\n",
    "    A[1] = 1\n",
    "    A[2] = 3\n",
    "is not a permutation, because value 2 is missing. The goal is to check whether array A is a permutation.\n",
    "#### Write a function:\n",
    "\n",
    "    def solution(A)\n",
    "that, given a zero-indexed array A, returns 1 if array A is a permutation\n",
    "and 0 if it is not.\n",
    "For example, given array A such that:\n",
    "    A[0] = 4\n",
    "    A[1] = 1\n",
    "    A[2] = 3\n",
    "    A[3] = 2\n",
    "the function should return 1.\n",
    "#### Given array A such that:\n",
    "    A[0] = 4\n",
    "    A[1] = 1\n",
    "    A[2] = 3\n",
    "the function should return 0.\n",
    "#### Assume that:\n",
    "    N is an integer within the range [1..100,000];\n",
    "    each element of array A is an integer within the range [1..1,000,000,000].\n",
    "#### Complexity:\n",
    "    expected worst-case time complexity is O(N);\n",
    "    expected worst-case space complexity is O(N), beyond input storage\n",
    "    (not counting the storage required for input arguments).\n",
    "    Elements of input arrays can be modified.\n"
   ]
  },
  {
   "cell_type": "code",
   "execution_count": 14,
   "id": "6b0d3105",
   "metadata": {
    "scrolled": true
   },
   "outputs": [],
   "source": [
    "A = [4,1,3]\n",
    "# A = [4,1,3]*10000"
   ]
  },
  {
   "cell_type": "code",
   "execution_count": 8,
   "id": "3ae8627b",
   "metadata": {},
   "outputs": [],
   "source": [
    "def solution(A):\n",
    "    \n",
    "    \n",
    "    min_number=min(A)\n",
    "    max_number=max(A)\n",
    "    \n",
    "    sequence=list(range(min_number, max_number+1))\n",
    "    \n",
    "    difference=list(set(sequence)-set(A))\n",
    "    \n",
    "    if len(difference)==0:\n",
    "        \n",
    "        permutation=1\n",
    "    \n",
    "    else:\n",
    "        \n",
    "        permutation=0\n",
    "        \n",
    "    return permutation\n",
    "    "
   ]
  },
  {
   "cell_type": "code",
   "execution_count": 9,
   "id": "e0ddc1fc",
   "metadata": {},
   "outputs": [
    {
     "data": {
      "text/plain": [
       "0"
      ]
     },
     "execution_count": 9,
     "metadata": {},
     "output_type": "execute_result"
    }
   ],
   "source": [
    "solution(A)"
   ]
  },
  {
   "cell_type": "code",
   "execution_count": 5,
   "id": "6bd1bc85",
   "metadata": {},
   "outputs": [
    {
     "name": "stdout",
     "output_type": "stream",
     "text": [
      "1.7 µs ± 246 ns per loop (mean ± std. dev. of 7 runs, 1000000 loops each)\n"
     ]
    }
   ],
   "source": [
    "%timeit solution(A)"
   ]
  },
  {
   "cell_type": "code",
   "execution_count": 10,
   "id": "60d26189",
   "metadata": {},
   "outputs": [
    {
     "name": "stdout",
     "output_type": "stream",
     "text": [
      "1 ms ± 21.8 µs per loop (mean ± std. dev. of 7 runs, 1000 loops each)\n"
     ]
    }
   ],
   "source": [
    "%timeit solution(A)"
   ]
  },
  {
   "cell_type": "code",
   "execution_count": 11,
   "id": "44228c93",
   "metadata": {},
   "outputs": [],
   "source": [
    "def solution2(nums):\n",
    "    \"\"\"Check if given nums are permutation 1..N.\"\"\"\n",
    "    if not nums:\n",
    "        return 0\n",
    "    seen = set()\n",
    "    for num in nums:\n",
    "        if num < 1 or num > len(nums) or num in seen:\n",
    "            return 0\n",
    "        seen.add(num)\n",
    "    return 1"
   ]
  },
  {
   "cell_type": "code",
   "execution_count": 15,
   "id": "59f9549c",
   "metadata": {},
   "outputs": [
    {
     "name": "stdout",
     "output_type": "stream",
     "text": [
      "1.69 µs ± 258 ns per loop (mean ± std. dev. of 7 runs, 1000000 loops each)\n"
     ]
    }
   ],
   "source": [
    "%timeit solution(A)"
   ]
  },
  {
   "cell_type": "code",
   "execution_count": 13,
   "id": "45d8f796",
   "metadata": {},
   "outputs": [
    {
     "name": "stdout",
     "output_type": "stream",
     "text": [
      "894 ns ± 136 ns per loop (mean ± std. dev. of 7 runs, 1000000 loops each)\n"
     ]
    }
   ],
   "source": [
    "%timeit solution2(A)"
   ]
  },
  {
   "cell_type": "code",
   "execution_count": null,
   "id": "dd43d3e2",
   "metadata": {},
   "outputs": [],
   "source": []
  }
 ],
 "metadata": {
  "kernelspec": {
   "display_name": "Python 3",
   "language": "python",
   "name": "python3"
  },
  "language_info": {
   "codemirror_mode": {
    "name": "ipython",
    "version": 3
   },
   "file_extension": ".py",
   "mimetype": "text/x-python",
   "name": "python",
   "nbconvert_exporter": "python",
   "pygments_lexer": "ipython3",
   "version": "3.6.9"
  }
 },
 "nbformat": 4,
 "nbformat_minor": 5
}
