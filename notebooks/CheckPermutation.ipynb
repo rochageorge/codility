{
 "cells": [
  {
   "cell_type": "markdown",
   "id": "284aa007",
   "metadata": {},
   "source": [
    "A non-empty zero-indexed array A consisting of N integers is given. A permutation is a sequence containing each element from 1 to N once, and only once.\n",
    "\n",
    "#### For example, array A such that:\n",
    "    A[0] = 4\n",
    "    A[1] = 1\n",
    "    A[2] = 3\n",
    "    A[3] = 2\n",
    "is a permutation, but array A such that:\n",
    "    \n",
    "    A[0] = 4\n",
    "    A[1] = 1\n",
    "    A[2] = 3\n",
    "is not a permutation, because value 2 is missing. The goal is to check whether array A is a permutation.\n",
    "#### Write a function:\n",
    "\n",
    "    def solution(A)\n",
    "that, given a zero-indexed array A, returns 1 if array A is a permutation\n",
    "and 0 if it is not.\n",
    "For example, given array A such that:\n",
    "    A[0] = 4\n",
    "    A[1] = 1\n",
    "    A[2] = 3\n",
    "    A[3] = 2\n",
    "the function should return 1.\n",
    "#### Given array A such that:\n",
    "    A[0] = 4\n",
    "    A[1] = 1\n",
    "    A[2] = 3\n",
    "the function should return 0.\n",
    "#### Assume that:\n",
    "    N is an integer within the range [1..100,000];\n",
    "    each element of array A is an integer within the range [1..1,000,000,000].\n",
    "#### Complexity:\n",
    "    expected worst-case time complexity is O(N);\n",
    "    expected worst-case space complexity is O(N), beyond input storage\n",
    "    (not counting the storage required for input arguments).\n",
    "    Elements of input arrays can be modified.\n"
   ]
  },
  {
   "cell_type": "code",
   "execution_count": 68,
   "id": "6b0d3105",
   "metadata": {},
   "outputs": [],
   "source": [
    "A = [4,1,3]"
   ]
  },
  {
   "cell_type": "code",
   "execution_count": 69,
   "id": "3ae8627b",
   "metadata": {},
   "outputs": [],
   "source": [
    "def solution(A):\n",
    "    \n",
    "    \n",
    "    min_number=min(A)\n",
    "    max_number=max(A)\n",
    "    \n",
    "    sequence=list(range(min_number, max_number+1))\n",
    "    \n",
    "    difference=list(set(sequence)-set(A))\n",
    "    \n",
    "    if len(difference)==0:\n",
    "        \n",
    "        permutation=1\n",
    "    \n",
    "    else:\n",
    "        \n",
    "        permutation=0\n",
    "        \n",
    "    return permutation\n",
    "    "
   ]
  },
  {
   "cell_type": "code",
   "execution_count": 70,
   "id": "e0ddc1fc",
   "metadata": {},
   "outputs": [
    {
     "data": {
      "text/plain": [
       "0"
      ]
     },
     "execution_count": 70,
     "metadata": {},
     "output_type": "execute_result"
    }
   ],
   "source": [
    "solution(A)"
   ]
  },
  {
   "cell_type": "code",
   "execution_count": null,
   "id": "6bd1bc85",
   "metadata": {},
   "outputs": [],
   "source": []
  }
 ],
 "metadata": {
  "kernelspec": {
   "display_name": "Python 3",
   "language": "python",
   "name": "python3"
  },
  "language_info": {
   "codemirror_mode": {
    "name": "ipython",
    "version": 3
   },
   "file_extension": ".py",
   "mimetype": "text/x-python",
   "name": "python",
   "nbconvert_exporter": "python",
   "pygments_lexer": "ipython3",
   "version": "3.6.9"
  }
 },
 "nbformat": 4,
 "nbformat_minor": 5
}
