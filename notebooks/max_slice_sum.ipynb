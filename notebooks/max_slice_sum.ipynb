{
 "cells": [
  {
   "cell_type": "markdown",
   "id": "f42f119c",
   "metadata": {},
   "source": [
    "A non-empty zero-indexed array A consisting of N integers is given. A pair of integers (P, Q), such that 0 ≤ P ≤ Q < N, is called a slice of array A.\n",
    "The sum of a slice (P, Q) is the total of A[P] + A[P+1] + ... + A[Q].\n",
    "#### Write a function:\n",
    "    def solution(A)\n",
    "that, given an array A consisting of N integers, returns the maximum sum of any slice of A.\n",
    "#### For example, given array A such that:\n",
    "    A[0] = 3  \n",
    "    A[1] = 2  \n",
    "    A[2] = -6\n",
    "    A[3] = 4  \n",
    "    A[4] = 0\n",
    "#### the function should return 5 because:\n",
    "    (3, 4) is a slice of A that has sum 4,\n",
    "    (2, 2) is a slice of A that has sum −6,\n",
    "    (0, 1) is a slice of A that has sum 5,\n",
    "    no other slice of A has sum greater than (0, 1).\n",
    "#### Assume that:\n",
    "    N is an integer within the range [1..1,000,000];\n",
    "    each element of array A is an integer within the range [−1,000,000..1,000,000];\n",
    "    the result will be an integer within the range [−2,147,483,648..2,147,483,647].\n",
    "#### Complexity:\n",
    "    expected worst-case time complexity is O(N);\n",
    "    expected worst-case space complexity is O(N),\n",
    "    beyond input storage (not counting the storage required for input arguments).\n",
    "    Elements of input arrays can be modified."
   ]
  },
  {
   "cell_type": "code",
   "execution_count": 72,
   "id": "7de4f9da",
   "metadata": {},
   "outputs": [],
   "source": [
    "A = [3, 2, -6, 4, 0]"
   ]
  },
  {
   "cell_type": "code",
   "execution_count": 66,
   "id": "183991e3",
   "metadata": {},
   "outputs": [],
   "source": [
    "def solution(A):\n",
    "    \n",
    "    max_sum=0\n",
    "    for i in range(len(A)):\n",
    "        \n",
    "        temp_max_sum=max(sum(A[:i]),sum(A[i:]))\n",
    "        if temp_max_sum>max_sum:\n",
    "            \n",
    "            max_sum=temp_max_sum\n",
    "    \n",
    "    return max_sum"
   ]
  },
  {
   "cell_type": "code",
   "execution_count": 73,
   "id": "d1c2d287",
   "metadata": {},
   "outputs": [
    {
     "data": {
      "text/plain": [
       "([3, 2, -6, 4], [0])"
      ]
     },
     "execution_count": 73,
     "metadata": {},
     "output_type": "execute_result"
    }
   ],
   "source": [
    "A[:i], A[i:]"
   ]
  },
  {
   "cell_type": "code",
   "execution_count": 67,
   "id": "cdf87e22",
   "metadata": {},
   "outputs": [
    {
     "data": {
      "text/plain": [
       "(303, 302)"
      ]
     },
     "execution_count": 67,
     "metadata": {},
     "output_type": "execute_result"
    }
   ],
   "source": [
    "solution2(A), solution(A)"
   ]
  },
  {
   "cell_type": "code",
   "execution_count": 68,
   "id": "e043ea75",
   "metadata": {},
   "outputs": [],
   "source": [
    "def solution2(A):\n",
    "    max_slice = 0\n",
    "    ret_val = A[0]\n",
    "\n",
    "    for value in A:\n",
    "        max_slice = max(value, max_slice + value)\n",
    "        ret_val = max(ret_val, max_slice)\n",
    "    return ret_val"
   ]
  },
  {
   "cell_type": "code",
   "execution_count": 74,
   "id": "51f7ebdd",
   "metadata": {},
   "outputs": [
    {
     "name": "stdout",
     "output_type": "stream",
     "text": [
      "2.88 µs ± 12.9 ns per loop (mean ± std. dev. of 7 runs, 100000 loops each)\n"
     ]
    }
   ],
   "source": [
    "%timeit solution(A)"
   ]
  },
  {
   "cell_type": "code",
   "execution_count": 75,
   "id": "48d00203",
   "metadata": {},
   "outputs": [
    {
     "name": "stdout",
     "output_type": "stream",
     "text": [
      "1.72 µs ± 216 ns per loop (mean ± std. dev. of 7 runs, 1000000 loops each)\n"
     ]
    }
   ],
   "source": [
    "%timeit solution2(A)"
   ]
  },
  {
   "cell_type": "code",
   "execution_count": null,
   "id": "d4d41050",
   "metadata": {},
   "outputs": [],
   "source": []
  }
 ],
 "metadata": {
  "kernelspec": {
   "display_name": "Python 3",
   "language": "python",
   "name": "python3"
  },
  "language_info": {
   "codemirror_mode": {
    "name": "ipython",
    "version": 3
   },
   "file_extension": ".py",
   "mimetype": "text/x-python",
   "name": "python",
   "nbconvert_exporter": "python",
   "pygments_lexer": "ipython3",
   "version": "3.6.9"
  }
 },
 "nbformat": 4,
 "nbformat_minor": 5
}
