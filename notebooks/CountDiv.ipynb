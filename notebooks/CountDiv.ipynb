{
 "cells": [
  {
   "cell_type": "markdown",
   "id": "249c7a26",
   "metadata": {},
   "source": [
    "#### Write a function:\n",
    "    def solution(A, B, K)\n",
    "that, given three integers A, B and K, returns the number of integers\n",
    "##### within the range [A..B] that are divisible by K, i.e.:\n",
    "    { i : A ≤ i ≤ B, i mod K = 0 }\n",
    "For example, for A = 6, B = 11 and K = 2, your function should return 3,because there are three numbers divisible by 2 within the range [6..11], namely 6, 8 and 10.\n",
    "#### Assume that:\n",
    "    A and B are integers within the range [0..2,000,000,000];\n",
    "    K is an integer within the range [1..2,000,000,000];\n",
    "    A ≤ B.\n",
    "#### Complexity:\n",
    "    expected worst-case time complexity is O(1);\n",
    "    expected worst-case space complexity is O(1)."
   ]
  },
  {
   "cell_type": "code",
   "execution_count": 27,
   "id": "908d7610",
   "metadata": {},
   "outputs": [],
   "source": [
    "A=6\n",
    "B=1111\n",
    "K=2"
   ]
  },
  {
   "cell_type": "code",
   "execution_count": 28,
   "id": "ec3d9b42",
   "metadata": {},
   "outputs": [],
   "source": [
    "def solution(A, B, K):\n",
    "    \n",
    "    \n",
    "    arr=list(range(A,B+1))\n",
    "    div_count=0\n",
    "    for number in arr:\n",
    "        if number%K==0:\n",
    "            div_count+=1\n",
    "    \n",
    "    return div_count\n"
   ]
  },
  {
   "cell_type": "code",
   "execution_count": 29,
   "id": "f9cf77a9",
   "metadata": {},
   "outputs": [
    {
     "data": {
      "text/plain": [
       "553"
      ]
     },
     "execution_count": 29,
     "metadata": {},
     "output_type": "execute_result"
    }
   ],
   "source": [
    "solution(A, B, K)"
   ]
  },
  {
   "cell_type": "code",
   "execution_count": 30,
   "id": "b6dd6357",
   "metadata": {},
   "outputs": [
    {
     "name": "stdout",
     "output_type": "stream",
     "text": [
      "77.2 µs ± 2.36 µs per loop (mean ± std. dev. of 7 runs, 10000 loops each)\n"
     ]
    }
   ],
   "source": [
    "%timeit solution(A, B, K)"
   ]
  },
  {
   "cell_type": "code",
   "execution_count": 31,
   "id": "3cd1535b",
   "metadata": {},
   "outputs": [],
   "source": [
    "from math import ceil, floor\n",
    "\n",
    "\n",
    "def solution2(A, B, K):\n",
    "    return floor(B / K) - ceil(A / K) + 1"
   ]
  },
  {
   "cell_type": "code",
   "execution_count": 32,
   "id": "1303d40c",
   "metadata": {},
   "outputs": [
    {
     "name": "stdout",
     "output_type": "stream",
     "text": [
      "337 ns ± 3.72 ns per loop (mean ± std. dev. of 7 runs, 1000000 loops each)\n"
     ]
    }
   ],
   "source": [
    "%timeit solution2(A, B, K)"
   ]
  },
  {
   "cell_type": "code",
   "execution_count": null,
   "id": "6e68d0b9",
   "metadata": {},
   "outputs": [],
   "source": []
  }
 ],
 "metadata": {
  "kernelspec": {
   "display_name": "Python 3",
   "language": "python",
   "name": "python3"
  },
  "language_info": {
   "codemirror_mode": {
    "name": "ipython",
    "version": 3
   },
   "file_extension": ".py",
   "mimetype": "text/x-python",
   "name": "python",
   "nbconvert_exporter": "python",
   "pygments_lexer": "ipython3",
   "version": "3.6.9"
  }
 },
 "nbformat": 4,
 "nbformat_minor": 5
}
