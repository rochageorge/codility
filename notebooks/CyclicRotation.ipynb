{
 "cells": [
  {
   "cell_type": "markdown",
   "id": "d84f0150",
   "metadata": {},
   "source": [
    "A zero-indexed array A consisting of N integers is given.\n",
    "Rotation of the array means that each element is shifted right by one index, and the last element of the array is also moved to the first place.\n",
    "\n",
    "For example, the rotation of array A = [3, 8, 9, 7, 6] is [6, 3, 8, 9, 7].\n",
    "The goal is to rotate array A K times; that is, each element of A will be shifted to the right by K indexes.\n",
    "\n",
    "#### Write a function:\n",
    "    def solution(A, K):\n",
    "that, given a zero-indexed array A consisting of N integers and an integer K, returns the array A rotated K times.\n",
    "\n",
    "#### For example, given array:\n",
    "    \n",
    "    A = [3, 8, 9, 7, 6]\n",
    "    K = 3, \n",
    "    \n",
    "    the function should return [9, 7, 6, 3, 8].\n",
    "\n",
    "#### Assume that:\n",
    "\n",
    "    N and K are integers within the range [0..100];\n",
    "    each element of array A is an integer within the range [−1,000..1,000].\n",
    "    In your solution, focus on correctness. The performance of your solution will not be the focus of the assessment."
   ]
  },
  {
   "cell_type": "code",
   "execution_count": 42,
   "id": "f05646f9",
   "metadata": {},
   "outputs": [],
   "source": [
    "A = [3, 8, 9, 7, 6]\n",
    "B = [1,2,3,4,5,6,7,8,9]\n",
    "\n",
    "K = 5"
   ]
  },
  {
   "cell_type": "code",
   "execution_count": 82,
   "id": "164b2f00",
   "metadata": {},
   "outputs": [],
   "source": [
    "def solution(A, K):\n",
    "    '''\n",
    "        A zero-indexed array A consisting of N integers is given.\n",
    "    Rotation of the array means that each element is shifted right by one index,\n",
    "    and the last element of the array is also moved to the first place.\n",
    "        Args:\n",
    "            A: Zero-indexed array\n",
    "            K: Quantity of rotations\n",
    "    '''\n",
    "    \n",
    "    a=A.copy()\n",
    "    k=K\n",
    "    a_size=len(a)\n",
    "    \n",
    "    shifted_numbers=[]\n",
    "    \n",
    "    if a_size<k:  \n",
    "        k=k%a_size   # Note: resizes k depending on the quantity of full rotations that will occur\n",
    "    \n",
    "    for i in range(k):\n",
    "        shifted_numbers.append(a.pop())\n",
    "    \n",
    "    shifted_numbers.reverse()\n",
    "    shifted_list = shifted_numbers+a\n",
    "    \n",
    "    return shifted_list"
   ]
  },
  {
   "cell_type": "code",
   "execution_count": 83,
   "id": "f060411d",
   "metadata": {},
   "outputs": [
    {
     "data": {
      "text/plain": [
       "[9, 7, 6, 3, 8]"
      ]
     },
     "execution_count": 83,
     "metadata": {},
     "output_type": "execute_result"
    }
   ],
   "source": [
    "solution(A, 3)"
   ]
  },
  {
   "cell_type": "code",
   "execution_count": null,
   "id": "682d8b77",
   "metadata": {},
   "outputs": [],
   "source": []
  }
 ],
 "metadata": {
  "kernelspec": {
   "display_name": "Python 3",
   "language": "python",
   "name": "python3"
  },
  "language_info": {
   "codemirror_mode": {
    "name": "ipython",
    "version": 3
   },
   "file_extension": ".py",
   "mimetype": "text/x-python",
   "name": "python",
   "nbconvert_exporter": "python",
   "pygments_lexer": "ipython3",
   "version": "3.6.9"
  }
 },
 "nbformat": 4,
 "nbformat_minor": 5
}
