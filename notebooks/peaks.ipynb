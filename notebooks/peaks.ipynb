{
 "cells": [
  {
   "cell_type": "markdown",
   "id": "a054ee65",
   "metadata": {},
   "source": [
    "A non-empty zero-indexed array A consisting of N integers is given. A peak is an array element which is larger than its neighbors. More precisely, it is an index P such that 0 < P < N − 1,  A[P − 1] < A[P] and A[P] > A[P + 1].\n",
    "#### For example, the following array A:\n",
    "    A[0] = 1\n",
    "    A[1] = 2\n",
    "    A[2] = 3\n",
    "    A[3] = 4\n",
    "    A[4] = 3\n",
    "    A[5] = 4\n",
    "    A[6] = 1\n",
    "    A[7] = 2\n",
    "    A[8] = 3\n",
    "    A[9] = 4\n",
    "    A[10] = 6\n",
    "    A[11] = 2\n",
    "has exactly three peaks: 3, 5, 10. We want to divide this array into blocks containing the same number of elements.\n",
    "#### More precisely, we want to choose a number K that will yield the following blocks:\n",
    "    A[0], A[1], ..., A[K − 1],\n",
    "    A[K], A[K + 1], ..., A[2K − 1],\n",
    "    ...\n",
    "    A[N − K], A[N − K + 1], ..., A[N − 1].\n",
    "What's more, every block should contain at least one peak. Notice that extreme elements of the blocks (for example A[K − 1] or A[K]) can also be peaks, but only if they have both neighbors (including one in an adjacent blocks). The goal is to find the maximum number of blocks into which the array A can be divided.\n",
    "#### Array A can be divided into blocks as follows:\n",
    "    one block (1, 2, 3, 4, 3, 4, 1, 2, 3, 4, 6, 2). This block contains three peaks.\n",
    "    two blocks (1, 2, 3, 4, 3, 4) and (1, 2, 3, 4, 6, 2). Every block has a peak.\n",
    "    three blocks (1, 2, 3, 4), (3, 4, 1, 2), (3, 4, 6, 2).\n",
    "Every block has a peak. Notice in particular that the first block (1, 2, 3, 4) has a peak at A[3], because A[2] < A[3] > A[4], even though A[4] is in the adjacent block. However, array A cannot be divided into four blocks, (1, 2, 3), (4, 3, 4), (1, 2, 3) and (4, 6, 2), because the (1, 2, 3) blocks do not contain a peak.\n",
    "Notice in particular that the (4, 3, 4) block contains two peaks: A[3] and A[5]. The maximum number of blocks that array A can be divided into is three.\n",
    "#### Write a function:\n",
    "    def solution(A)\n",
    "that, given a non-empty zero-indexed array A consisting of N integers,  returns the maximum number of blocks into which A can be divided. If A cannot be divided into some number of blocks, the function should return 0.\n",
    "#### For example, given:\n",
    "    A[0] = 1\n",
    "    A[1] = 2\n",
    "    A[2] = 3\n",
    "    A[3] = 4\n",
    "    A[4] = 3\n",
    "    A[5] = 4\n",
    "    A[6] = 1\n",
    "    A[7] = 2\n",
    "    A[8] = 3\n",
    "    A[9] = 4\n",
    "    A[10] = 6\n",
    "    A[11] = 2\n",
    "the function should return 3, as explained above.\n",
    "#### Assume that:\n",
    "    N is an integer within the range [1..100,000];\n",
    "    each element of array A is an integer within the range [0..1,000,000,000].\n",
    "#### Complexity:\n",
    "    expected worst-case time complexity is O(N*log(log(N)));\n",
    "    expected worst-case space complexity is O(N),\n",
    "    beyond input storage (not counting the storage required for input arguments).\n",
    "    Elements of input arrays can be modified."
   ]
  },
  {
   "cell_type": "code",
   "execution_count": 1,
   "id": "9428363c",
   "metadata": {},
   "outputs": [],
   "source": [
    "import numpy as np"
   ]
  },
  {
   "cell_type": "code",
   "execution_count": 2,
   "id": "4bede33a",
   "metadata": {},
   "outputs": [],
   "source": [
    "# descobrir os divisores\n",
    "# deslocrar o vetor no tamanho do divisor\n",
    "# ordenar o vetor de forma que comece a verificação pelo valor que produz maior quantidade de blocos"
   ]
  },
  {
   "cell_type": "code",
   "execution_count": 3,
   "id": "db8e0eb6",
   "metadata": {},
   "outputs": [],
   "source": [
    "# returns 3 \n",
    "# peaks: 3, 5, 10.\n",
    "A=[1, 2, 3, 4, 3, 4, 1, 2, 3, 4, 6, 2]"
   ]
  },
  {
   "cell_type": "code",
   "execution_count": 39,
   "id": "682c3b12",
   "metadata": {},
   "outputs": [],
   "source": [
    "# Checks if the list has a peak: returns 1 if yes, 0 if not\n",
    "def get_peak(V):\n",
    "    \n",
    "    peak=[ i for i in range(len(V)-1) if V[i-1] < V[i] > V[i+1] ]\n",
    "    \n",
    "    return len(peak)\n",
    "\n",
    "\n",
    "# Creates a list of divisors of the Array length: returns a list with numbers\n",
    "def get_divisor_list(A):\n",
    "    \n",
    "    div_list=[]\n",
    "    length=len(A)\n",
    "    top=int(length/2)\n",
    "    \n",
    "    for i in range(3,top+1):\n",
    "        if length%i==0:\n",
    "            div_list.append(i)\n",
    "            \n",
    "    return div_list\n",
    "\n",
    "\n",
    "# Get the number of blocks\n",
    "def get_n_blocks(L, A):\n",
    "    \n",
    "    for element in L:\n",
    "        \n",
    "        exptd_peaks=len(A)/element\n",
    "        n_peaks=0\n",
    "        first_element=0\n",
    "        \n",
    "        for element in range(element,len(A)+1,element):\n",
    "            is_peak=get_peak(A[first_element:element])\n",
    "            \n",
    "            if is_peak>=1:\n",
    "                n_peaks+=1\n",
    "                \n",
    "            first_element=element\n",
    "            \n",
    "        if n_peaks==exptd_peaks:\n",
    "            return n_peaks\n",
    "        \n",
    "\n",
    "def solution(A):\n",
    "    \n",
    "    divisor_list=get_divisor_list(A)\n",
    "    blocks=get_n_blocks(divisor_list, A)  \n",
    "    if blocks == None:\n",
    "        return 0\n",
    "    else:\n",
    "        return blocks\n",
    "    "
   ]
  },
  {
   "cell_type": "code",
   "execution_count": 40,
   "id": "df4803db",
   "metadata": {},
   "outputs": [],
   "source": [
    "# Someone's solution\n",
    "def solution2(A):\n",
    "\n",
    "    length = len(A)\n",
    "\n",
    "    # array ends can't be peaks, len < 3 must return 0\n",
    "    if length < 3:\n",
    "        return 0\n",
    "\n",
    "    peaks = [0] * length\n",
    "\n",
    "    # compute a list of 'peaks to the left' in O(n) time\n",
    "    for index in range(2, length):\n",
    "        peaks[index] = peaks[index - 1]\n",
    "\n",
    "        # check if there was a peak to the left, add it to the count\n",
    "        if A[index - 1] > A[index - 2] and A[index - 1] > A[index]:\n",
    "            peaks[index] += 1\n",
    "\n",
    "    # candidate is the block size we're going to test\n",
    "    for candidate in range(3, length + 1):\n",
    "\n",
    "        # skip if not a factor\n",
    "        if length % candidate != 0:\n",
    "            continue\n",
    "\n",
    "        # test at each point n / block\n",
    "        valid = True\n",
    "        index = candidate\n",
    "        while index != length:\n",
    "\n",
    "            # if no peak in this block, break\n",
    "            if peaks[index] == peaks[index - candidate]:\n",
    "                valid = False\n",
    "                break\n",
    "\n",
    "            index += candidate\n",
    "\n",
    "        # one additional check since peaks[length] is outside of array\n",
    "        if index == length and peaks[index - 1] == peaks[index - candidate]:\n",
    "            valid = False\n",
    "\n",
    "        if valid:\n",
    "            return length // candidate\n",
    "\n",
    "    return 0"
   ]
  },
  {
   "cell_type": "code",
   "execution_count": 41,
   "id": "3bd3408f",
   "metadata": {},
   "outputs": [
    {
     "data": {
      "text/plain": [
       "(2, 3)"
      ]
     },
     "execution_count": 41,
     "metadata": {},
     "output_type": "execute_result"
    }
   ],
   "source": [
    "# Array A can be divided into blocks as follows:\n",
    "# one block (1, 2, 3, 4, 3, 4, 1, 2, 3, 4, 6, 2). This block contains three peaks.\n",
    "# two blocks (1, 2, 3, 4, 3, 4) and (1, 2, 3, 4, 6, 2). Every block has a peak.\n",
    "# three blocks (1, 2, 3, 4), (3, 4, 1, 2), (3, 4, 6, 2).\n",
    "\n",
    "solution(A), solution2(A)"
   ]
  },
  {
   "cell_type": "code",
   "execution_count": 42,
   "id": "bdc024f5",
   "metadata": {},
   "outputs": [
    {
     "name": "stdout",
     "output_type": "stream",
     "text": [
      "13.6 µs ± 2.7 µs per loop (mean ± std. dev. of 7 runs, 100000 loops each)\n",
      "3.14 µs ± 6.06 ns per loop (mean ± std. dev. of 7 runs, 100000 loops each)\n"
     ]
    }
   ],
   "source": [
    "%timeit solution(A)\n",
    "%timeit solution2(A)"
   ]
  },
  {
   "cell_type": "code",
   "execution_count": null,
   "id": "859a42ec",
   "metadata": {},
   "outputs": [],
   "source": []
  }
 ],
 "metadata": {
  "kernelspec": {
   "display_name": "Python 3",
   "language": "python",
   "name": "python3"
  },
  "language_info": {
   "codemirror_mode": {
    "name": "ipython",
    "version": 3
   },
   "file_extension": ".py",
   "mimetype": "text/x-python",
   "name": "python",
   "nbconvert_exporter": "python",
   "pygments_lexer": "ipython3",
   "version": "3.6.9"
  }
 },
 "nbformat": 4,
 "nbformat_minor": 5
}
