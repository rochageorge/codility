{
 "cells": [
  {
   "cell_type": "markdown",
   "id": "8e5b5d8a",
   "metadata": {},
   "source": [
    "A zero-indexed array A consisting of N integers is given.\n",
    "#### A triplet (P, Q, R) is triangular if 0 ≤ P < Q < R < N and:\n",
    "    A[P] + A[Q] > A[R],\n",
    "    A[Q] + A[R] > A[P],\n",
    "    A[R] + A[P] > A[Q].\n",
    "#### For example, consider array A such that:\n",
    "    A[0] = 10    \n",
    "    A[1] = 2    \n",
    "    A[2] = 5\n",
    "    A[3] = 1     \n",
    "    A[4] = 8    \n",
    "    A[5] = 20\n",
    "Triplet (0, 2, 4) is triangular.\n",
    "#### Write a function:\n",
    "    def solution(A)\n",
    "that, given a zero-indexed array A consisting of N integers, returns 1 if there exists a triangular triplet for this array and returns 0 otherwise.\n",
    "#### For example, given array A such that:\n",
    "    A[0] = 10    \n",
    "    A[1] = 2    \n",
    "    A[2] = 5\n",
    "    A[3] = 1     \n",
    "    A[4] = 8    \n",
    "    A[5] = 20\n",
    "#### the function should return 1, as explained above. Given array A such that:\n",
    "    A[0] = 10    \n",
    "    A[1] = 50    \n",
    "    A[2] = 5\n",
    "    A[3] = 1\n",
    "the function should return 0.\n",
    "#### Assume that:\n",
    "    N is an integer within the range [0..100,000];\n",
    "    each element of array A is an integer within the range [−2,147,483,648..2,147,483,647].\n",
    "#### Complexity:\n",
    "    expected worst-case time complexity is O(N*log(N));\n",
    "    expected worst-case space complexity is O(N),\n",
    "    beyond input storage (not counting the storage required for input arguments).\n",
    "    Elements of input arrays can be modified."
   ]
  },
  {
   "cell_type": "code",
   "execution_count": 5,
   "id": "d666b5cc",
   "metadata": {},
   "outputs": [],
   "source": [
    "from itertools import combinations"
   ]
  },
  {
   "cell_type": "code",
   "execution_count": 39,
   "id": "be4a64ee",
   "metadata": {},
   "outputs": [],
   "source": [
    "A = [10, 2, 5, 1, 8, 20]\n",
    "B = [10, 50, 5, 1]"
   ]
  },
  {
   "cell_type": "code",
   "execution_count": 11,
   "id": "a48675b0",
   "metadata": {},
   "outputs": [],
   "source": [
    "def solution(A):\n",
    "    \n",
    "    \n",
    "    comb_array= list(combinations(A,3))\n",
    "    \n",
    "    for comb in comb_array:\n",
    "        \n",
    "        P=comb[0]\n",
    "        Q=comb[1]\n",
    "        R=comb[2]\n",
    "\n",
    "        great_R = P + Q > R\n",
    "        great_P = Q + R > P\n",
    "        great_Q = R + P > Q\n",
    "\n",
    "        if great_R and great_P and great_Q:\n",
    "            return 1\n",
    "        \n",
    "    return 0\n",
    "    "
   ]
  },
  {
   "cell_type": "code",
   "execution_count": 12,
   "id": "e9ba73f3",
   "metadata": {},
   "outputs": [],
   "source": [
    "def solution2(A):\n",
    "    A_len = len(A)\n",
    "    if A_len < 3:\n",
    "        return 0\n",
    "\n",
    "    A.sort()\n",
    "\n",
    "    for index in range(0, A_len - 2):\n",
    "        if A[index] + A[index + 1] > A[index + 2]:\n",
    "            return 1\n",
    "\n",
    "    return 0"
   ]
  },
  {
   "cell_type": "code",
   "execution_count": 40,
   "id": "36e2d358",
   "metadata": {},
   "outputs": [
    {
     "name": "stdout",
     "output_type": "stream",
     "text": [
      "2.15 µs ± 212 ns per loop (mean ± std. dev. of 7 runs, 100000 loops each)\n",
      "918 ns ± 164 ns per loop (mean ± std. dev. of 7 runs, 1000000 loops each)\n"
     ]
    }
   ],
   "source": [
    "%timeit solution(A)\n",
    "%timeit solution2(A)"
   ]
  },
  {
   "cell_type": "code",
   "execution_count": null,
   "id": "a67102bd",
   "metadata": {},
   "outputs": [],
   "source": []
  },
  {
   "cell_type": "code",
   "execution_count": null,
   "id": "d3f508f6",
   "metadata": {},
   "outputs": [],
   "source": []
  }
 ],
 "metadata": {
  "kernelspec": {
   "display_name": "Python 3",
   "language": "python",
   "name": "python3"
  },
  "language_info": {
   "codemirror_mode": {
    "name": "ipython",
    "version": 3
   },
   "file_extension": ".py",
   "mimetype": "text/x-python",
   "name": "python",
   "nbconvert_exporter": "python",
   "pygments_lexer": "ipython3",
   "version": "3.6.9"
  }
 },
 "nbformat": 4,
 "nbformat_minor": 5
}
