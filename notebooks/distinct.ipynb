{
 "cells": [
  {
   "cell_type": "markdown",
   "id": "83c9394d",
   "metadata": {},
   "source": [
    "#### Write a function\n",
    "    def solution(A)\n",
    "that, given a zero-indexed array A consisting of N integers, returns the number of distinct values in array A.\n",
    "#### Assume that:\n",
    "    N is an integer within the range [0..100,000];\n",
    "    each element of array A is an integer within the range [−1,000,000..1,000,000].\n",
    "#### For example, given array A consisting of six elements such that:\n",
    "     A[0] = 2    \n",
    "     A[1] = 1    \n",
    "     A[2] = 1\n",
    "     A[3] = 2    \n",
    "     A[4] = 3    \n",
    "     A[5] = 1\n",
    "the function should return 3, because there are 3 distinct values appearing in array A, namely 1, 2 and 3.\n",
    "#### Complexity:\n",
    "    expected worst-case time complexity is O(N*log(N));\n",
    "    expected worst-case space complexity is O(N), beyond input storage\n",
    "    (not counting the storage required for input arguments).\n",
    "    Elements of input arrays can be modified."
   ]
  },
  {
   "cell_type": "code",
   "execution_count": 1,
   "id": "dd85b330",
   "metadata": {},
   "outputs": [],
   "source": [
    "A = [0]*6\n",
    "A[0] = 2    \n",
    "A[1] = 1    \n",
    "A[2] = 1\n",
    "A[3] = 2    \n",
    "A[4] = 3    \n",
    "A[5] = 1"
   ]
  },
  {
   "cell_type": "code",
   "execution_count": 14,
   "id": "845dd5b6",
   "metadata": {},
   "outputs": [],
   "source": [
    "def solution(A):\n",
    "    \n",
    "    \n",
    "    unique_values_quantity = len(set(A))\n",
    "    \n",
    "    return unique_values_quantity"
   ]
  },
  {
   "cell_type": "code",
   "execution_count": 15,
   "id": "249387f2",
   "metadata": {},
   "outputs": [
    {
     "data": {
      "text/plain": [
       "3"
      ]
     },
     "execution_count": 15,
     "metadata": {},
     "output_type": "execute_result"
    }
   ],
   "source": [
    "solution(A)"
   ]
  },
  {
   "cell_type": "code",
   "execution_count": null,
   "id": "3ccccad6",
   "metadata": {},
   "outputs": [],
   "source": []
  }
 ],
 "metadata": {
  "kernelspec": {
   "display_name": "Python 3",
   "language": "python",
   "name": "python3"
  },
  "language_info": {
   "codemirror_mode": {
    "name": "ipython",
    "version": 3
   },
   "file_extension": ".py",
   "mimetype": "text/x-python",
   "name": "python",
   "nbconvert_exporter": "python",
   "pygments_lexer": "ipython3",
   "version": "3.6.9"
  }
 },
 "nbformat": 4,
 "nbformat_minor": 5
}
