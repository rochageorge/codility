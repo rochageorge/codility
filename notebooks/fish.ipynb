{
 "cells": [
  {
   "cell_type": "markdown",
   "id": "5e76d089",
   "metadata": {},
   "source": [
    "You are given two non-empty zero-indexed arrays A and B consisting of N integers. Arrays A and B represent N voracious fish in a river, ordered downstream along the flow of the river. The fish are numbered from 0 to N − 1. If P and Q are two fish and P < Q, then fish P is initially upstream of fish Q. Initially, each fish has a unique position. Fish number P is represented by A[P] and B[P]. Array A contains the sizes of the fish. All its elements are unique. Array B contains the directions of the fish.\n",
    "#### It contains only 0s and/or 1s, where:\n",
    "    0 represents a fish flowing upstream,\n",
    "    1 represents a fish flowing downstream.\n",
    "If two fish move in opposite directions and there are no other (living) fish between them, they will eventually meet each other. Then only one fish can stay alive − the larger fish eats the smaller one. More precisely, we say that two fish P and Q meet each other when P < Q, B[P] = 1 and B[Q] = 0, and there are no living fish between them. After they meet:\n",
    "    \n",
    "    If A[P] > A[Q] then P eats Q, and P will still be flowing downstream,\n",
    "    If A[Q] > A[P] then Q eats P, and Q will still be flowing upstream.\n",
    "\n",
    "We assume that all the fish are flowing at the same speed. That is, fish moving in the same direction never meet.\n",
    "The goal is to calculate the number of fish that will stay alive.\n",
    "#### For example, consider arrays A and B such that:\n",
    "    A[0] = 4    B[0] = 0\n",
    "    A[1] = 3    B[1] = 1\n",
    "    A[2] = 2    B[2] = 0\n",
    "    A[3] = 1    B[3] = 0\n",
    "    A[4] = 5    B[4] = 0\n",
    "Initially all the fish are alive and all except fish number 1 are moving upstream. Fish number 1 meets fish number 2 and eats it, then it meets fish number 3 and eats it too. Finally, it meets fish number 4 and is eaten by it. The remaining two fish, number 0 and 4, never meet and therefore stay alive.\n",
    "#### Write a function:\n",
    "    def solution(A, B)\n",
    "that, given two non-empty zero-indexed arrays A and B consisting of N integers, returns the number of fish that will stay alive. For example, given the arrays shown above, the function should return 2, as explained above.\n",
    "#### Assume that:\n",
    "    N is an integer within the range [1..100,000];\n",
    "    each element of array A is an integer within the range [0..1,000,000,000];\n",
    "    each element of array B is an integer that can have one of the following values: 0, 1;\n",
    "    the elements of A are all distinct.\n",
    "##### Complexity:\n",
    "    expected worst-case time complexity is O(N);\n",
    "    expected worst-case space complexity is O(N), beyond input storage\n",
    "    (not counting the storage required for input arguments).\n",
    "    Elements of input arrays can be modified."
   ]
  },
  {
   "cell_type": "code",
   "execution_count": 1,
   "id": "0e4712ee",
   "metadata": {},
   "outputs": [],
   "source": [
    "# A[0] = 4    B[0] = 0\n",
    "# A[1] = 3    B[1] = 1\n",
    "# A[2] = 2    B[2] = 0\n",
    "# A[3] = 1    B[3] = 0\n",
    "# A[4] = 5    B[4] = 0\n",
    "\n",
    "# If A[P] > A[Q] then P eats Q, and P will still be flowing downstream,\n",
    "# If A[Q] > A[P] then Q eats P, and Q will still be flowing upstream."
   ]
  },
  {
   "cell_type": "code",
   "execution_count": 10,
   "id": "7d70422b",
   "metadata": {},
   "outputs": [],
   "source": [
    "A = [4, 3, 2, 1, 5, 7, 8, 6]\n",
    "B = [0, 1, 0, 0, 0, 0, 1, 0]"
   ]
  },
  {
   "cell_type": "code",
   "execution_count": 22,
   "id": "a5ce509a",
   "metadata": {},
   "outputs": [],
   "source": [
    "def solution(A,B):\n",
    "    \n",
    "    fish=zip(A,B)\n",
    "    stack=[]\n",
    "    \n",
    "    \n",
    "    for size, direction in fish:\n",
    "#         print(f'size: {size}, dir: {direction}, stack: {stack}')\n",
    "\n",
    "        if not stack: # Note: add first item to the stack\n",
    "            stack.append(size)\n",
    "\n",
    "        elif stack[-1] > size:\n",
    "            if B[A.index(stack[-1])] == 0 and direction == 1:\n",
    "                stack.append(size)\n",
    "        else:\n",
    "            if B[A.index(stack[-1])] == 1 and direction == 0:\n",
    "                stack.pop()\n",
    "                stack.append(size)\n",
    "                    \n",
    "            else:\n",
    "                stack.append(size)\n",
    "\n",
    "    return len(stack)"
   ]
  },
  {
   "cell_type": "code",
   "execution_count": 23,
   "id": "b9f69b73",
   "metadata": {},
   "outputs": [
    {
     "data": {
      "text/plain": [
       "4"
      ]
     },
     "execution_count": 23,
     "metadata": {},
     "output_type": "execute_result"
    }
   ],
   "source": [
    "solution(A,B)"
   ]
  },
  {
   "cell_type": "code",
   "execution_count": 24,
   "id": "5dddada1",
   "metadata": {},
   "outputs": [],
   "source": [
    "def solution2(sizes, directions):\n",
    "    stack = []\n",
    "\n",
    "    escaped = 0\n",
    "\n",
    "    for size, direction in zip(sizes, directions):\n",
    "        if direction == 0:\n",
    "            if stack:\n",
    "                while stack and stack[-1] < size:\n",
    "                    stack.pop()\n",
    "                if not stack:\n",
    "                    # OMG, that fish ate all the fishes going upstream!\n",
    "                    escaped += 1\n",
    "            else:\n",
    "                escaped += 1\n",
    "        else:\n",
    "            stack.append(size)\n",
    "\n",
    "    return len(stack) + escaped"
   ]
  },
  {
   "cell_type": "code",
   "execution_count": 25,
   "id": "01443129",
   "metadata": {},
   "outputs": [
    {
     "name": "stdout",
     "output_type": "stream",
     "text": [
      "2.79 µs ± 581 ns per loop (mean ± std. dev. of 7 runs, 100000 loops each)\n"
     ]
    }
   ],
   "source": [
    "%timeit solution(A,B)"
   ]
  },
  {
   "cell_type": "code",
   "execution_count": 26,
   "id": "2a36c231",
   "metadata": {},
   "outputs": [
    {
     "name": "stdout",
     "output_type": "stream",
     "text": [
      "1.82 µs ± 381 ns per loop (mean ± std. dev. of 7 runs, 100000 loops each)\n"
     ]
    }
   ],
   "source": [
    "%timeit solution2(A,B)"
   ]
  },
  {
   "cell_type": "code",
   "execution_count": null,
   "id": "a8af178a",
   "metadata": {},
   "outputs": [],
   "source": []
  }
 ],
 "metadata": {
  "kernelspec": {
   "display_name": "Python 3",
   "language": "python",
   "name": "python3"
  },
  "language_info": {
   "codemirror_mode": {
    "name": "ipython",
    "version": 3
   },
   "file_extension": ".py",
   "mimetype": "text/x-python",
   "name": "python",
   "nbconvert_exporter": "python",
   "pygments_lexer": "ipython3",
   "version": "3.6.9"
  }
 },
 "nbformat": 4,
 "nbformat_minor": 5
}
