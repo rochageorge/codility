{
 "cells": [
  {
   "cell_type": "markdown",
   "id": "d7e6bdee",
   "metadata": {},
   "source": [
    "A zero-indexed array A consisting of N integers is given. It contains daily prices of a stock share for a period of N consecutive days. If a single share was bought on day P and sold on day Q, where 0 ≤ P ≤ Q < N,\n",
    "then the profit of such transaction is equal to A[Q] − A[P], provided that A[Q] ≥ A[P]. Otherwise, the transaction brings loss of A[P] − A[Q].\n",
    "#### For example, consider the following array A consisting of six elements such that:\n",
    "      A[0] = 23171\n",
    "      A[1] = 21011\n",
    "      A[2] = 21123\n",
    "      A[3] = 21366\n",
    "      A[4] = 21013\n",
    "      A[5] = 21367\n",
    "If a share was bought on day 0 and sold on day 2,  a loss of 2048 would occur because A[2] − A[0] = 21123 − 23171 = −2048.  If a share was bought on day 4 and sold on day 5,  a profit of 354 would occur because A[5] − A[4] = 21367 − 21013 = 354. Maximum possible profit was 356. It would occur if a share was bought on day 1 and sold on day 5. \n",
    "#### Write a function,\n",
    "    def solution(A)\n",
    "that, given a zero-indexed array A consisting of N integers containing daily prices of a stock share for a period of N consecutive days, returns the maximum possible profit from one transaction during this period.\n",
    "The function should return 0 if it was impossible to gain any profit.\n",
    "#### For example, given array A consisting of six elements such that:\n",
    "      A[0] = 23171\n",
    "      A[1] = 21011\n",
    "      A[2] = 21123\n",
    "      A[3] = 21366\n",
    "      A[4] = 21013\n",
    "      A[5] = 21367\n",
    "the function should return 356, as explained above.\n",
    "#### Assume that:\n",
    "    N is an integer within the range [0..400,000];\n",
    "    each element of array A is an integer within the range [0..200,000].\n",
    "#### Complexity:\n",
    "    expected worst-case time complexity is O(N);\n",
    "    expected worst-case space complexity is O(1),\n",
    "    beyond input storage (not counting the storage required for input arguments).\n",
    "    Elements of input arrays can be modified."
   ]
  },
  {
   "cell_type": "code",
   "execution_count": 11,
   "id": "e0dd7d7f",
   "metadata": {},
   "outputs": [],
   "source": [
    "from itertools import combinations"
   ]
  },
  {
   "cell_type": "code",
   "execution_count": 123,
   "id": "41b24f9b",
   "metadata": {},
   "outputs": [],
   "source": [
    "# A = [23171, 21011, 21123, 21366, 21013, 21367]\n",
    "A = [0,0,0,0]"
   ]
  },
  {
   "cell_type": "code",
   "execution_count": 124,
   "id": "ae5bdd7c",
   "metadata": {},
   "outputs": [],
   "source": [
    "# P < Q\n",
    "# A[Q] ≥ A[P] returns profit\n",
    "# A[Q] < A[P] returns 0"
   ]
  },
  {
   "cell_type": "code",
   "execution_count": 125,
   "id": "6b9cef7f",
   "metadata": {},
   "outputs": [],
   "source": [
    "def solution(A):\n",
    "    \n",
    "    \n",
    "    comb = combinations(A, 2)\n",
    "    diff_list=[]\n",
    "    \n",
    "    [diff_list.append((c, c[1]-c[0])) for c in comb if c[1]>c[0]]\n",
    "    \n",
    "    if len(diff_list)>0:\n",
    "        dic=dict(diff_list)\n",
    "        max_profit=max(dic.values())\n",
    "    \n",
    "        # finds the buy and sell days\n",
    "    #     day=[key for key, value in dic.items() if value==max_profit]\n",
    "\n",
    "        return max_profit\n",
    "    \n",
    "    else:\n",
    "        return 0"
   ]
  },
  {
   "cell_type": "code",
   "execution_count": 126,
   "id": "40864ff6",
   "metadata": {},
   "outputs": [],
   "source": [
    "import sys\n",
    "\n",
    "\n",
    "def solution2(A):\n",
    "    min_price = sys.maxsize\n",
    "    max_profit = 0\n",
    "    for a in A:\n",
    "        min_price = min([min_price, a])\n",
    "        max_profit = max([max_profit, a - min_price])\n",
    "    return max_profit"
   ]
  },
  {
   "cell_type": "code",
   "execution_count": 127,
   "id": "0a0fec6e",
   "metadata": {},
   "outputs": [
    {
     "data": {
      "text/plain": [
       "(0, 0)"
      ]
     },
     "execution_count": 127,
     "metadata": {},
     "output_type": "execute_result"
    }
   ],
   "source": [
    "solution(A), solution2(A) "
   ]
  },
  {
   "cell_type": "code",
   "execution_count": 129,
   "id": "8e8e6ede",
   "metadata": {},
   "outputs": [
    {
     "name": "stdout",
     "output_type": "stream",
     "text": [
      "993 ns ± 4.65 ns per loop (mean ± std. dev. of 7 runs, 1000000 loops each)\n",
      "1.65 µs ± 2.74 ns per loop (mean ± std. dev. of 7 runs, 1000000 loops each)\n"
     ]
    }
   ],
   "source": [
    "%timeit solution(A)\n",
    "%timeit solution2(A)"
   ]
  },
  {
   "cell_type": "code",
   "execution_count": null,
   "id": "0f842f01",
   "metadata": {},
   "outputs": [],
   "source": []
  }
 ],
 "metadata": {
  "kernelspec": {
   "display_name": "Python 3",
   "language": "python",
   "name": "python3"
  },
  "language_info": {
   "codemirror_mode": {
    "name": "ipython",
    "version": 3
   },
   "file_extension": ".py",
   "mimetype": "text/x-python",
   "name": "python",
   "nbconvert_exporter": "python",
   "pygments_lexer": "ipython3",
   "version": "3.6.9"
  }
 },
 "nbformat": 4,
 "nbformat_minor": 5
}
