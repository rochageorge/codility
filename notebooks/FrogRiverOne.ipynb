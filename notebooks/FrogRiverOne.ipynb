{
 "cells": [
  {
   "cell_type": "markdown",
   "id": "86ead22c",
   "metadata": {},
   "source": [
    "A small frog wants to get to the other side of a river. The frog is initially located on one bank of the river (position 0) and wants to get to the opposite bank (position X+1). Leaves fall from a tree onto the surface of the river. You are given a zero-indexed array A consisting of N integers representing the falling leaves. A[K] represents the position where one leaf falls at time K, measured in seconds. The goal is to find the earliest time when the frog can jump to the other side of the river. The frog can cross only when leaves appear at every position across the river from 1 to X (that is, we want to find the earliest moment when all the positions from 1 to X are covered by leaves). You may assume that the  speed of the current in the river is negligibly small, i.e. the leaves do not change their positions once they fall in the river.\n",
    "\n",
    "#### For example, you are given integer X = 5 and array A such that:\n",
    "    A[0] = 1\n",
    "    A[1] = 3\n",
    "    A[2] = 1\n",
    "    A[3] = 4\n",
    "    A[4] = 2\n",
    "    A[5] = 3\n",
    "    A[6] = 5\n",
    "    A[7] = 4\n",
    "In second 6, a leaf falls into position 5.\n",
    "#### This is the earliest time when leaves appear in every position across the river Write a function:\n",
    "    def solution(X, A)\n",
    "that, given a non-empty zero-indexed array A consisting of N integers and integer X, returns the earliest time when the frog can jump to the other side of the river. If the frog is never able to jump to the other side of the river, the function should return −1.\n",
    "#### For example, given X = 5 and array A such that:\n",
    "    A[0] = 1\n",
    "    A[1] = 3\n",
    "    A[2] = 1\n",
    "    A[3] = 4\n",
    "    A[4] = 2\n",
    "    A[5] = 3\n",
    "    A[6] = 5\n",
    "    A[7] = 4\n",
    "the function should return 6, as explained above.\n",
    "#### Assume that:\n",
    "    N and X are integers within the range [1..100,000];\n",
    "    each element of array A is an integer within the range [1..X].\n",
    "#### Complexity:\n",
    "    expected worst-case time complexity is O(N);\n",
    "    expected worst-case space complexity is O(X), beyond input storage\n",
    "    (not counting the storage required for input arguments).\n",
    "    Elements of input arrays can be modified."
   ]
  },
  {
   "cell_type": "code",
   "execution_count": 21,
   "id": "86383c74",
   "metadata": {},
   "outputs": [],
   "source": [
    "import numpy as np"
   ]
  },
  {
   "cell_type": "code",
   "execution_count": 109,
   "id": "3f773467",
   "metadata": {},
   "outputs": [],
   "source": [
    "# A = [1,3,1,4,2,3,4]*10000000\n",
    "A = [1,3,1,4,2,3,5,4]\n",
    "# A = [0]"
   ]
  },
  {
   "cell_type": "code",
   "execution_count": 93,
   "id": "9ad9cdc5",
   "metadata": {},
   "outputs": [],
   "source": [
    "def solution(X, A):\n",
    "    \n",
    "    \n",
    "    array=np.array(A)\n",
    "    index_numpy=np.where(array==X)\n",
    "    index_len=len(index_numpy[0])\n",
    "    \n",
    "    if index_len==0:\n",
    "        index=-1\n",
    "    else:\n",
    "        index=index_numpy[0][0]\n",
    "    \n",
    "    return index"
   ]
  },
  {
   "cell_type": "code",
   "execution_count": 112,
   "id": "e5e10a31",
   "metadata": {},
   "outputs": [
    {
     "data": {
      "text/plain": [
       "1"
      ]
     },
     "execution_count": 112,
     "metadata": {},
     "output_type": "execute_result"
    }
   ],
   "source": [
    "solution(3, A)"
   ]
  },
  {
   "cell_type": "code",
   "execution_count": 95,
   "id": "7a80d231",
   "metadata": {},
   "outputs": [
    {
     "name": "stdout",
     "output_type": "stream",
     "text": [
      "4.17 µs ± 131 ns per loop (mean ± std. dev. of 7 runs, 100000 loops each)\n"
     ]
    }
   ],
   "source": [
    "%timeit solution(5, A)"
   ]
  },
  {
   "cell_type": "code",
   "execution_count": 97,
   "id": "fd6e0549",
   "metadata": {},
   "outputs": [
    {
     "name": "stdout",
     "output_type": "stream",
     "text": [
      "3.49 µs ± 92.6 ns per loop (mean ± std. dev. of 7 runs, 100000 loops each)\n"
     ]
    }
   ],
   "source": [
    "%timeit solution(5, A)"
   ]
  },
  {
   "cell_type": "code",
   "execution_count": 103,
   "id": "7c162891",
   "metadata": {},
   "outputs": [
    {
     "name": "stdout",
     "output_type": "stream",
     "text": [
      "4.93 s ± 183 ms per loop (mean ± std. dev. of 7 runs, 1 loop each)\n"
     ]
    }
   ],
   "source": [
    "%timeit solution(5, A)"
   ]
  },
  {
   "cell_type": "code",
   "execution_count": 98,
   "id": "67fc526b",
   "metadata": {},
   "outputs": [],
   "source": [
    "def solution2(distance, falls):\n",
    "    if len(falls) == 1 and falls[0] and distance == 1:\n",
    "        return 0\n",
    "    elif len(falls) < distance:\n",
    "        return -1\n",
    "    positions = set(range(1, distance + 1))\n",
    "    for minute, pos in enumerate(falls):\n",
    "        if pos in positions:\n",
    "            positions.remove(pos)\n",
    "            if not positions:\n",
    "                return minute\n",
    "    return -1"
   ]
  },
  {
   "cell_type": "code",
   "execution_count": 101,
   "id": "5e097298",
   "metadata": {},
   "outputs": [
    {
     "name": "stdout",
     "output_type": "stream",
     "text": [
      "1.67 µs ± 351 ns per loop (mean ± std. dev. of 7 runs, 1000000 loops each)\n"
     ]
    }
   ],
   "source": [
    "%timeit solution2(5, A)"
   ]
  },
  {
   "cell_type": "code",
   "execution_count": 99,
   "id": "df6b05c8",
   "metadata": {},
   "outputs": [
    {
     "name": "stdout",
     "output_type": "stream",
     "text": [
      "243 ns ± 54.6 ns per loop (mean ± std. dev. of 7 runs, 1000000 loops each)\n"
     ]
    }
   ],
   "source": [
    "%timeit solution2(5, A)"
   ]
  },
  {
   "cell_type": "code",
   "execution_count": 104,
   "id": "2fc59ca7",
   "metadata": {},
   "outputs": [
    {
     "name": "stdout",
     "output_type": "stream",
     "text": [
      "4.47 s ± 583 ms per loop (mean ± std. dev. of 7 runs, 1 loop each)\n"
     ]
    }
   ],
   "source": [
    "%timeit solution2(5, A)"
   ]
  },
  {
   "cell_type": "code",
   "execution_count": 113,
   "id": "ceda773e",
   "metadata": {},
   "outputs": [
    {
     "data": {
      "text/plain": [
       "4"
      ]
     },
     "execution_count": 113,
     "metadata": {},
     "output_type": "execute_result"
    }
   ],
   "source": [
    "solution2(3, A)"
   ]
  },
  {
   "cell_type": "code",
   "execution_count": null,
   "id": "a285ccd0",
   "metadata": {},
   "outputs": [],
   "source": []
  }
 ],
 "metadata": {
  "kernelspec": {
   "display_name": "Python 3",
   "language": "python",
   "name": "python3"
  },
  "language_info": {
   "codemirror_mode": {
    "name": "ipython",
    "version": 3
   },
   "file_extension": ".py",
   "mimetype": "text/x-python",
   "name": "python",
   "nbconvert_exporter": "python",
   "pygments_lexer": "ipython3",
   "version": "3.6.9"
  }
 },
 "nbformat": 4,
 "nbformat_minor": 5
}
