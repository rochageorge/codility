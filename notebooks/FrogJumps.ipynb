{
 "cells": [
  {
   "cell_type": "markdown",
   "id": "b1edd6c6",
   "metadata": {},
   "source": [
    "A small frog wants to get to the other side of the road. The frog is currently located at position X and wants to get to a position greater than or equal to Y. The small frog always jumps a fixed distance, D.\n",
    "\n",
    "Count the minimal number of jumps that the small frog must perform to reach its target.\n",
    "\n",
    "#### Write a function:\n",
    "    def solution(X, Y, D)\n",
    "that, given three integers X, Y and D, returns the minimal number of jumps from position X to a position equal to or greater than Y.\n",
    "\n",
    "#### For example, given:\n",
    "    X = 10\n",
    "    Y = 85\n",
    "    D = 30\n",
    "      \n",
    "the function should return 3, because the frog will be positioned as follows:\n",
    "        \n",
    "    After the first jump, at position 10 + 30 = 40\n",
    "    After the second jump, at position 10 + 30 + 30 = 70\n",
    "    After the third jump, at position 10 + 30 + 30 + 30 = 100\n",
    "\n",
    "#### Assume that:\n",
    "\n",
    "    X, Y and D are integers within the range [1..1,000,000,000];\n",
    "    X ≤ Y.\n",
    "\n",
    "#### Complexity:\n",
    "    * expected worst-case time complexity is O(1);\n",
    "    * expected worst-case space complexity is O(1)."
   ]
  },
  {
   "cell_type": "code",
   "execution_count": 9,
   "id": "3d70df60",
   "metadata": {},
   "outputs": [],
   "source": [
    "import math"
   ]
  },
  {
   "cell_type": "code",
   "execution_count": 49,
   "id": "d88141ec",
   "metadata": {},
   "outputs": [],
   "source": [
    "X = 10\n",
    "Y = 85\n",
    "D = 30"
   ]
  },
  {
   "cell_type": "code",
   "execution_count": 64,
   "id": "44a7d70a",
   "metadata": {},
   "outputs": [],
   "source": [
    "def solution(X, Y, D):\n",
    "    \n",
    "    \n",
    "    if X==Y:\n",
    "        \n",
    "        number_jumps=0\n",
    "    else:\n",
    "        \n",
    "        total_distance=abs(Y-X)\n",
    "        number_jumps=math.ceil(total_distance/D)\n",
    "#         print(f'Total distance: {total_distance}\\nNumber of jumps: {number_jumps}')\n",
    "        \n",
    "    return number_jumps"
   ]
  },
  {
   "cell_type": "code",
   "execution_count": 65,
   "id": "57dbdc2d",
   "metadata": {},
   "outputs": [
    {
     "name": "stdout",
     "output_type": "stream",
     "text": [
      "482 ns ± 4.46 ns per loop (mean ± std. dev. of 7 runs, 1000000 loops each)\n"
     ]
    }
   ],
   "source": [
    "%timeit solution(X, Y, D)"
   ]
  },
  {
   "cell_type": "code",
   "execution_count": 66,
   "id": "c6bd66f5",
   "metadata": {},
   "outputs": [],
   "source": [
    "def solution2(X, Y, D):\n",
    "    distance = Y - X\n",
    "    result = int(distance / D)\n",
    "    if distance % D != 0:\n",
    "        result += 1\n",
    "    return result"
   ]
  },
  {
   "cell_type": "code",
   "execution_count": 67,
   "id": "ae57c27a",
   "metadata": {},
   "outputs": [
    {
     "name": "stdout",
     "output_type": "stream",
     "text": [
      "510 ns ± 1.12 ns per loop (mean ± std. dev. of 7 runs, 1000000 loops each)\n"
     ]
    }
   ],
   "source": [
    "%timeit solution2(X, Y, D)"
   ]
  },
  {
   "cell_type": "code",
   "execution_count": null,
   "id": "088bf943",
   "metadata": {},
   "outputs": [],
   "source": []
  }
 ],
 "metadata": {
  "kernelspec": {
   "display_name": "Python 3",
   "language": "python",
   "name": "python3"
  },
  "language_info": {
   "codemirror_mode": {
    "name": "ipython",
    "version": 3
   },
   "file_extension": ".py",
   "mimetype": "text/x-python",
   "name": "python",
   "nbconvert_exporter": "python",
   "pygments_lexer": "ipython3",
   "version": "3.6.9"
  }
 },
 "nbformat": 4,
 "nbformat_minor": 5
}
