{
 "cells": [
  {
   "cell_type": "markdown",
   "id": "e6672f72",
   "metadata": {},
   "source": [
    "A small frog wants to get to the other side of the road. The frog is currently located at position X and wants to get to a position greater than or equal to Y. The small frog always jumps a fixed distance, D.\n",
    "\n",
    "Count the minimal number of jumps that the small frog must perform to reach its target.\n",
    "\n",
    "#### Write a function:\n",
    "    def solution(X, Y, D)\n",
    "that, given three integers X, Y and D, returns the minimal number of jumps from position X to a position equal to or greater than Y.\n",
    "\n",
    "#### For example, given:\n",
    "    X = 10\n",
    "    Y = 85\n",
    "    D = 30\n",
    "      \n",
    "the function should return 3, because the frog will be positioned as follows:\n",
    "        \n",
    "    After the first jump, at position 10 + 30 = 40\n",
    "    After the second jump, at position 10 + 30 + 30 = 70\n",
    "    After the third jump, at position 10 + 30 + 30 + 30 = 100\n",
    "\n",
    "#### Assume that:\n",
    "\n",
    "    X, Y and D are integers within the range [1..1,000,000,000];\n",
    "    X ≤ Y.\n",
    "\n",
    "#### Complexity:\n",
    "    * expected worst-case time complexity is O(1);\n",
    "    * expected worst-case space complexity is O(1)."
   ]
  },
  {
   "cell_type": "code",
   "execution_count": 9,
   "id": "febc6f18",
   "metadata": {},
   "outputs": [],
   "source": [
    "import math"
   ]
  },
  {
   "cell_type": "code",
   "execution_count": 49,
   "id": "f908b5bc",
   "metadata": {},
   "outputs": [],
   "source": [
    "X = 10\n",
    "Y = 85\n",
    "D = 30"
   ]
  },
  {
   "cell_type": "code",
   "execution_count": 56,
   "id": "8303e25f",
   "metadata": {},
   "outputs": [],
   "source": [
    "def solution(X, Y, D):\n",
    "    \n",
    "    \n",
    "    if X==Y:\n",
    "        \n",
    "        number_jumps=0\n",
    "    else:\n",
    "        \n",
    "        total_distance=abs(Y-X)\n",
    "        number_jumps=math.ceil(total_distance/D)\n",
    "        print(f'Total distance: {total_distance}\\nNumber of jumps: {number_jumps}')\n",
    "        \n",
    "    return number_jumps"
   ]
  },
  {
   "cell_type": "code",
   "execution_count": 57,
   "id": "2ed86691",
   "metadata": {},
   "outputs": [
    {
     "name": "stdout",
     "output_type": "stream",
     "text": [
      "Total distance: 75\n",
      "Number of jumps: 3\n"
     ]
    },
    {
     "data": {
      "text/plain": [
       "3"
      ]
     },
     "execution_count": 57,
     "metadata": {},
     "output_type": "execute_result"
    }
   ],
   "source": [
    "solution(X, Y, D)"
   ]
  },
  {
   "cell_type": "code",
   "execution_count": null,
   "id": "77c1f2e1",
   "metadata": {},
   "outputs": [],
   "source": []
  }
 ],
 "metadata": {
  "kernelspec": {
   "display_name": "Python 3",
   "language": "python",
   "name": "python3"
  },
  "language_info": {
   "codemirror_mode": {
    "name": "ipython",
    "version": 3
   },
   "file_extension": ".py",
   "mimetype": "text/x-python",
   "name": "python",
   "nbconvert_exporter": "python",
   "pygments_lexer": "ipython3",
   "version": "3.6.9"
  }
 },
 "nbformat": 4,
 "nbformat_minor": 5
}
