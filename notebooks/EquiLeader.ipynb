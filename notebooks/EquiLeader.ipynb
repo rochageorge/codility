{
 "cells": [
  {
   "cell_type": "markdown",
   "id": "bef0b00a",
   "metadata": {},
   "source": [
    "A non-empty zero-indexed array A consisting of N integers is given. The leader of this array is the value that occurs in more than half of  the elements of A. An equi leader is an index S such that 0 ≤ S < N − 1 and two sequences A[0],  A[1], ..., A[S] and A[S + 1], A[S + 2], ..., A[N − 1] have leaders of  the same value.\n",
    "#### For example, given array A such that:\n",
    "    A[0] = 4\n",
    "    A[1] = 3\n",
    "    A[2] = 4\n",
    "    A[3] = 4\n",
    "    A[4] = 4\n",
    "    A[5] = 2\n",
    "#### we can find two equi leaders:\n",
    "    0, because sequences: (4) and (3, 4, 4, 4, 2) have the same leader, whose value is 4.\n",
    "    2, because sequences: (4, 3, 4) and (4, 4, 2) have the same leader, whose value is 4.\n",
    "    The goal is to count the number of equi leaders.\n",
    "#### Write a function:\n",
    "    def solution(A)\n",
    "that, given a non-empty zero-indexed array A consisting of N integers, returns the number of equi leaders.\n",
    "#### For example, given:\n",
    "    A[0] = 4\n",
    "    A[1] = 3\n",
    "    A[2] = 4\n",
    "    A[3] = 4\n",
    "    A[4] = 4\n",
    "    A[5] = 2\n",
    "the function should return 2, as explained above.\n",
    "#### Assume that:\n",
    "    N is an integer within the range [1..100,000];\n",
    "    each element of array A is an integer within\n",
    "    the range [−1,000,000,000..1,000,000,000].\n",
    "#### Complexity:\n",
    "    expected worst-case time complexity is O(N);\n",
    "    expected worst-case space complexity is O(N),\n",
    "    beyond input storage (not counting the storage required for input arguments).\n",
    "    Elements of input arrays can be modified."
   ]
  },
  {
   "cell_type": "code",
   "execution_count": 201,
   "id": "b8b274e3",
   "metadata": {},
   "outputs": [],
   "source": [
    "A = [4, 3, 4, 4, 4, 2]\n",
    "B = [3, 4, 4, 4, 2]"
   ]
  },
  {
   "cell_type": "code",
   "execution_count": 202,
   "id": "fd40f6ab",
   "metadata": {},
   "outputs": [],
   "source": [
    "def solution(A):\n",
    "\n",
    "    def get_dict(S):\n",
    "        \n",
    "        dic=dict()\n",
    "        # Get the frequency of each unique value in the dictionary\n",
    "        [dic.update({num:S.count(num)}) for num in set(S)]\n",
    "        return dic\n",
    "    \n",
    "    half=int(len(A)/2)\n",
    "    A1=A[:half]\n",
    "    A2=A[half:]\n",
    "    \n",
    "    d1=get_dict(A1)\n",
    "    d2=get_dict(A2)\n",
    "    \n",
    "    # Get the keys that are in both dictionary\n",
    "    same_keys=[key for key in d1.keys() if key in d2.keys()] \n",
    "    \n",
    "    # Get the keys that have the same frequency\n",
    "    count=[key for key in same_keys if d1.get(key)==d2.get(key)]     \n",
    "    \n",
    "    count=len(count)\n",
    "    \n",
    "    return  count*2"
   ]
  },
  {
   "cell_type": "code",
   "execution_count": 203,
   "id": "47788bb8",
   "metadata": {},
   "outputs": [],
   "source": [
    "def solution2(A):\n",
    "    n = len(A)\n",
    "    d = dict()\n",
    "    lv = lk = 0\n",
    "    for i in range(n):\n",
    "        if A[i] not in d:\n",
    "            d[A[i]] = 1\n",
    "        else:\n",
    "            d[A[i]] += 1\n",
    "        if lv < d[A[i]]:\n",
    "            lv = d[A[i]]\n",
    "            lk = A[i]\n",
    "    if lv <= n / 2:\n",
    "        return 0\n",
    "    left = 0\n",
    "    right = lv\n",
    "    count = 0\n",
    "    for i in range(n):\n",
    "        if A[i] == lk:\n",
    "            left += 1\n",
    "            right -= 1\n",
    "        if left > (i + 1) / 2 and right > (n - i - 1) / 2:\n",
    "            count += 1\n",
    "    return count"
   ]
  },
  {
   "cell_type": "code",
   "execution_count": 204,
   "id": "4a62ed96",
   "metadata": {},
   "outputs": [
    {
     "data": {
      "text/plain": [
       "(2, 2)"
      ]
     },
     "execution_count": 204,
     "metadata": {},
     "output_type": "execute_result"
    }
   ],
   "source": [
    "solution(A), solution2(A)"
   ]
  },
  {
   "cell_type": "code",
   "execution_count": 205,
   "id": "bc7efa2e",
   "metadata": {},
   "outputs": [
    {
     "name": "stdout",
     "output_type": "stream",
     "text": [
      "5.62 µs ± 1.33 µs per loop (mean ± std. dev. of 7 runs, 100000 loops each)\n"
     ]
    }
   ],
   "source": [
    "%timeit solution(A)"
   ]
  },
  {
   "cell_type": "code",
   "execution_count": 206,
   "id": "635e4fb1",
   "metadata": {},
   "outputs": [
    {
     "name": "stdout",
     "output_type": "stream",
     "text": [
      "3.93 µs ± 835 ns per loop (mean ± std. dev. of 7 runs, 100000 loops each)\n"
     ]
    }
   ],
   "source": [
    "%timeit solution2(A)"
   ]
  },
  {
   "cell_type": "code",
   "execution_count": null,
   "id": "a60a7784",
   "metadata": {},
   "outputs": [],
   "source": []
  }
 ],
 "metadata": {
  "kernelspec": {
   "display_name": "Python 3",
   "language": "python",
   "name": "python3"
  },
  "language_info": {
   "codemirror_mode": {
    "name": "ipython",
    "version": 3
   },
   "file_extension": ".py",
   "mimetype": "text/x-python",
   "name": "python",
   "nbconvert_exporter": "python",
   "pygments_lexer": "ipython3",
   "version": "3.6.9"
  }
 },
 "nbformat": 4,
 "nbformat_minor": 5
}
