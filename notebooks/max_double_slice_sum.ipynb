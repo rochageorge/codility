{
 "cells": [
  {
   "cell_type": "markdown",
   "id": "a1eebc04",
   "metadata": {},
   "source": [
    "A non-empty zero-indexed array A consisting of N integers is given. A triplet (X, Y, Z), such that 0 ≤ X < Y < Z < N, is called a double slice.\n",
    "The sum of double slice (X, Y, Z) is the total of  A[X + 1] + A[X + 2] + ... + A[Y − 1] + A[Y + 1] + A[Y + 2] + ... + A[Z − 1].\n",
    "#### For example, array A such that:\n",
    "    A[0] = 3\n",
    "    A[1] = 2\n",
    "    A[2] = 6\n",
    "    A[3] = -1\n",
    "    A[4] = 4\n",
    "    A[5] = 5\n",
    "    A[6] = -1\n",
    "    A[7] = 2\n",
    "#### contains the following example double slices:\n",
    "    double slice (0, 3, 6), sum is 2 + 6 + 4 + 5 = 17,\n",
    "    double slice (0, 3, 7), sum is 2 + 6 + 4 + 5 − 1 = 16,\n",
    "    double slice (3, 4, 5), sum is 0.\n",
    "The goal is to find the maximal sum of any double slice.\n",
    "#### Write a function:\n",
    "    def solution(A)\n",
    "that, given a non-empty zero-indexed array A consisting of N integers,  returns the maximal sum of any double slice.\n",
    "#### For example, given:\n",
    "    A[0] = 3\n",
    "    A[1] = 2\n",
    "    A[2] = 6\n",
    "    A[3] = -1\n",
    "    A[4] = 4\n",
    "    A[5] = 5\n",
    "    A[6] = -1\n",
    "    A[7] = 2\n",
    "the function should return 17, because no double slice of array A has a sum of greater than 17.\n",
    "#### Assume that:\n",
    "    N is an integer within the range [3..100,000];\n",
    "    each element of array A is an integer within the range [−10,000..10,000].\n",
    "#### Complexity:\n",
    "    expected worst-case time complexity is O(N);\n",
    "    expected worst-case space complexity is O(N),\n",
    "    beyond input storage (not counting the storage required for input arguments).\n",
    "    Elements of input arrays can be modified."
   ]
  },
  {
   "cell_type": "code",
   "execution_count": 7,
   "id": "43346855",
   "metadata": {},
   "outputs": [],
   "source": [
    "from random import randint"
   ]
  },
  {
   "cell_type": "code",
   "execution_count": 290,
   "id": "05fb3cae",
   "metadata": {},
   "outputs": [],
   "source": [
    "A = [3, 2, 6, -1, 4, 5, -1, 2]"
   ]
  },
  {
   "cell_type": "code",
   "execution_count": 291,
   "id": "aff8ba5d",
   "metadata": {},
   "outputs": [],
   "source": [
    "def solution(A):\n",
    "    \n",
    "    \n",
    "    stop=0\n",
    "    max_sum=0\n",
    "    l = len(A)\n",
    "    \n",
    "    while stop < l*10:\n",
    "\n",
    "        X = randint(1,l-2)\n",
    "        Y = randint(X+1,l-1)\n",
    "        Z = randint(Y+1,l)\n",
    "        \n",
    "        temp_sum=sum(A[X:Y] + A[Y:Z])\n",
    "\n",
    "        if temp_sum>max_sum:\n",
    "            max_sum=temp_sum\n",
    "            stop=0\n",
    "        \n",
    "        stop+=1\n",
    "    \n",
    "    return max_sum"
   ]
  },
  {
   "cell_type": "code",
   "execution_count": 292,
   "id": "992e90e8",
   "metadata": {},
   "outputs": [],
   "source": [
    "import sys\n",
    "\n",
    "\n",
    "def solution2(A):\n",
    "    n = len(A)\n",
    "    left = [0] * n\n",
    "    for i in range(1, n - 1):\n",
    "        left[i] = max(0, left[i - 1] + A[i])\n",
    "\n",
    "    right = [0] * n\n",
    "    for i in range(n - 2, 1, -1):\n",
    "        right[i] = max(0, right[i + 1] + A[i])\n",
    "\n",
    "    max_sum = -sys.maxsize\n",
    "    for i in range(1, n - 1):\n",
    "        max_sum = max(max_sum, left[i - 1] + right[i + 1])\n",
    "    return max_sum"
   ]
  },
  {
   "cell_type": "code",
   "execution_count": 293,
   "id": "a12f4cd5",
   "metadata": {},
   "outputs": [
    {
     "data": {
      "text/plain": [
       "(17, 17)"
      ]
     },
     "execution_count": 293,
     "metadata": {},
     "output_type": "execute_result"
    }
   ],
   "source": [
    "solution(A), solution2(A) "
   ]
  },
  {
   "cell_type": "code",
   "execution_count": 294,
   "id": "6c67c32b",
   "metadata": {},
   "outputs": [
    {
     "name": "stdout",
     "output_type": "stream",
     "text": [
      "424 µs ± 94 µs per loop (mean ± std. dev. of 7 runs, 1000 loops each)\n",
      "6.73 µs ± 1.43 µs per loop (mean ± std. dev. of 7 runs, 100000 loops each)\n"
     ]
    }
   ],
   "source": [
    "%timeit solution(A)\n",
    "%timeit solution2(A) "
   ]
  },
  {
   "cell_type": "code",
   "execution_count": null,
   "id": "1e71a1bf",
   "metadata": {},
   "outputs": [],
   "source": []
  }
 ],
 "metadata": {
  "kernelspec": {
   "display_name": "Python 3",
   "language": "python",
   "name": "python3"
  },
  "language_info": {
   "codemirror_mode": {
    "name": "ipython",
    "version": 3
   },
   "file_extension": ".py",
   "mimetype": "text/x-python",
   "name": "python",
   "nbconvert_exporter": "python",
   "pygments_lexer": "ipython3",
   "version": "3.6.9"
  }
 },
 "nbformat": 4,
 "nbformat_minor": 5
}
