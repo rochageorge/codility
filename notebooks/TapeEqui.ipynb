{
 "cells": [
  {
   "cell_type": "markdown",
   "id": "e1a11cdc",
   "metadata": {},
   "source": [
    "A non-empty zero-indexed array A consisting of N integers is given. Array A represents numbers on a tape. Any integer P, such that 0 < P < N, splits this tape into two non-empty parts: \n",
    "        \n",
    "    A[0], A[1], ..., A[P − 1] and A[P], A[P + 1], ..., A[N − 1]\n",
    "    \n",
    "The difference between the two parts is the value of:\n",
    "    \n",
    "    (A[0] + A[1] + ... + A[P − 1]) − (A[P] + A[P + 1] + ... + A[N − 1]). \n",
    "    \n",
    "In other words, it is the absolute difference between the sum of the first part and the sum of the second part.\n",
    "#### For example, consider array A such that:\n",
    "    A[0] = 3\n",
    "    A[1] = 1\n",
    "    A[2] = 2\n",
    "    A[3] = 4\n",
    "    A[4] = 3\n",
    "#### We can split this tape in four places:\n",
    "    P = 1, difference = |3 − 10| = 7 \n",
    "    P = 2, difference = |4 − 9| = 5 \n",
    "    P = 3, difference = |6 − 7| = 1 \n",
    "    P = 4, difference = |10 − 3| = 7 \n",
    "#### Write a function:\n",
    "    def solution(A)\n",
    "that, given a non-empty zero-indexed array A of N integers, returns the minimal difference that can be achieved.\n",
    "#### For example, given:\n",
    "    A[0] = 3\n",
    "    A[1] = 1\n",
    "    A[2] = 2\n",
    "    A[3] = 4\n",
    "    A[4] = 3\n",
    "the function should return 1, as explained above.\n",
    "#### Assume that:\n",
    "    N is an integer within the range [2..100,000];\n",
    "    Each element of array A is an integer within the range [−1,000..1,000].\n",
    "#### Complexity:\n",
    "    expected worst-case time complexity is O(N);\n",
    "    expected worst-case space complexity is O(N), beyond input storage (not counting the storage required for input arguments). Elements of input arrays can be modified."
   ]
  },
  {
   "cell_type": "code",
   "execution_count": 76,
   "id": "676167a5",
   "metadata": {},
   "outputs": [],
   "source": [
    "A = list(range(0,200))\n",
    "# A = [3,1,2,4,3]"
   ]
  },
  {
   "cell_type": "code",
   "execution_count": 77,
   "id": "a1a7e52d",
   "metadata": {},
   "outputs": [],
   "source": [
    "def solution(A):\n",
    "    \n",
    "    \n",
    "    array_size=len(A)\n",
    "    smallest_difference=max(A)\n",
    "    \n",
    "    for P in range(1,array_size):\n",
    "        \n",
    "        B = A[:P]\n",
    "        C = A[P:]\n",
    "\n",
    "        difference=abs(sum(B)-sum(C))\n",
    "            \n",
    "        smallest_difference=min(smallest_difference, difference)\n",
    "        \n",
    "    return smallest_difference"
   ]
  },
  {
   "cell_type": "code",
   "execution_count": 78,
   "id": "c48b2b59",
   "metadata": {},
   "outputs": [
    {
     "data": {
      "text/plain": [
       "122"
      ]
     },
     "execution_count": 78,
     "metadata": {},
     "output_type": "execute_result"
    }
   ],
   "source": [
    "solution(A)"
   ]
  },
  {
   "cell_type": "code",
   "execution_count": 79,
   "id": "111fef67",
   "metadata": {},
   "outputs": [
    {
     "name": "stdout",
     "output_type": "stream",
     "text": [
      "451 µs ± 94.6 µs per loop (mean ± std. dev. of 7 runs, 1000 loops each)\n"
     ]
    }
   ],
   "source": [
    "%timeit solution(A)"
   ]
  },
  {
   "cell_type": "code",
   "execution_count": 80,
   "id": "e16b50cd",
   "metadata": {},
   "outputs": [],
   "source": [
    "# best solution\n",
    "def solution2(nums):\n",
    "    lefts, rights = sum(nums[:1]), sum(nums[1:])\n",
    "    minval = abs(lefts - rights)\n",
    "    for i in range(1, len(nums) - 1):\n",
    "        lefts += nums[i]\n",
    "        rights -= nums[i]\n",
    "        minval = min(minval, abs(lefts - rights))\n",
    "    return minval"
   ]
  },
  {
   "cell_type": "code",
   "execution_count": 81,
   "id": "dab8e838",
   "metadata": {},
   "outputs": [
    {
     "name": "stdout",
     "output_type": "stream",
     "text": [
      "74.9 µs ± 15.5 µs per loop (mean ± std. dev. of 7 runs, 10000 loops each)\n"
     ]
    }
   ],
   "source": [
    "%timeit solution2(A)"
   ]
  },
  {
   "cell_type": "code",
   "execution_count": 82,
   "id": "fa6c4292",
   "metadata": {},
   "outputs": [
    {
     "data": {
      "text/plain": [
       "(122, 122)"
      ]
     },
     "execution_count": 82,
     "metadata": {},
     "output_type": "execute_result"
    }
   ],
   "source": [
    "solution(A), solution2(A)"
   ]
  },
  {
   "cell_type": "code",
   "execution_count": null,
   "id": "ad284090",
   "metadata": {},
   "outputs": [],
   "source": []
  }
 ],
 "metadata": {
  "kernelspec": {
   "display_name": "Python 3",
   "language": "python",
   "name": "python3"
  },
  "language_info": {
   "codemirror_mode": {
    "name": "ipython",
    "version": 3
   },
   "file_extension": ".py",
   "mimetype": "text/x-python",
   "name": "python",
   "nbconvert_exporter": "python",
   "pygments_lexer": "ipython3",
   "version": "3.6.9"
  }
 },
 "nbformat": 4,
 "nbformat_minor": 5
}
