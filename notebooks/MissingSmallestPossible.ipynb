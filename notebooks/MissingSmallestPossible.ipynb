{
 "cells": [
  {
   "cell_type": "markdown",
   "id": "530db3e2",
   "metadata": {},
   "source": [
    "#### Write a function:\n",
    "    def solution(A)\n",
    "that, given an array A of N integers, returns the smallest positive integer (greater than 0) that does not occur in A.\n",
    "\n",
    "#### For example:\n",
    "    Given A = [1, 3, 6, 4, 1, 2]\n",
    "\n",
    "the function should return 5.\n",
    "\n",
    "#### For another example:\n",
    "    given A = [1, 2, 3], the function should return 4.\n",
    "    Given A = [−1, −3], the function should return 1.\n",
    "#### Assume that:\n",
    "    N is an integer within the range [1..100,000];\n",
    "    each element of array A is an integer within the range [−1,000,000..1,000,000].\n",
    "\n",
    "#### Complexity:\n",
    "    expected worst-case time complexity is O(N);\n",
    "    expected worst-case space complexity is O(N), beyond input storage\n",
    "    (not counting the storage required for input arguments)."
   ]
  },
  {
   "cell_type": "code",
   "execution_count": 1,
   "id": "37264c34",
   "metadata": {},
   "outputs": [],
   "source": [
    "import numpy as np"
   ]
  },
  {
   "cell_type": "code",
   "execution_count": 13,
   "id": "6053e681",
   "metadata": {},
   "outputs": [],
   "source": [
    "A = [5, 6, -3, -8, 9, 11, -12, 2] \n",
    "# A = [-1,-2,0,1,2,3,-5,8]\n",
    "# A = [1, 3, 6, 4, 1, 2]\n",
    "# A = [1, 1, 2, 3, 4, 5, 6]\n",
    "# A = [-1, -2]\n",
    "# A = []"
   ]
  },
  {
   "cell_type": "code",
   "execution_count": 17,
   "id": "fcc0346b",
   "metadata": {},
   "outputs": [],
   "source": [
    "def solution(A):\n",
    "    \n",
    "    \n",
    "    array_size=len(A)\n",
    "    positives=list(filter(lambda x: x > 0, A))\n",
    "    \n",
    "    if array_size==0 or len(positives)==0:\n",
    "        \n",
    "        return 1\n",
    "    \n",
    "    else:\n",
    "        \n",
    "        whole_list=list(range(min(positives), max(positives)))\n",
    "        difference=list(set(whole_list)-set(positives))\n",
    "                \n",
    "        if len(difference)!=0:\n",
    "            \n",
    "            return min(difference)\n",
    "\n",
    "        else:\n",
    "            \n",
    "            whole_list.sort()\n",
    "            next_number=whole_list[-1]+1  \n",
    "            \n",
    "            return next_number"
   ]
  },
  {
   "cell_type": "code",
   "execution_count": 4,
   "id": "d477cc15",
   "metadata": {},
   "outputs": [
    {
     "name": "stdout",
     "output_type": "stream",
     "text": [
      "Entrada:[-5, -2, -1, 0, 1, 2, 3, 8] \n",
      "Saida: 4\n"
     ]
    }
   ],
   "source": [
    "A.sort()\n",
    "print(f'Entrada:{A} \\nSaida: {solution(A)}')"
   ]
  },
  {
   "cell_type": "markdown",
   "id": "7ba87c1a",
   "metadata": {},
   "source": [
    "Solution:    \n",
    "\n",
    "    Ok    situation1: empty or negative -> retuns 1 \n",
    "    Ok    situation2: list with missing elements in the seguence -> returns smallest missing number\n",
    "    Ok    situation3: list with with complete sequence -> returns the next gretest number"
   ]
  },
  {
   "cell_type": "code",
   "execution_count": 9,
   "id": "228bd966",
   "metadata": {},
   "outputs": [],
   "source": [
    "def solution2(A):\n",
    "    A.sort()\n",
    "    A = list(filter(lambda x: x > 0, A))\n",
    "    n = len(A)\n",
    "    if n == 0 or A[0] != 1:\n",
    "        return 1\n",
    "    for i in range(n - 1):\n",
    "        if A[i + 1] - A[i] > 1:\n",
    "            return A[i] + 1\n",
    "    return A[n - 1] + 1"
   ]
  },
  {
   "cell_type": "code",
   "execution_count": 10,
   "id": "84b79276",
   "metadata": {},
   "outputs": [
    {
     "name": "stdout",
     "output_type": "stream",
     "text": [
      "Entrada:[-5, -2, -1, 0, 1, 2, 3, 8] \n",
      "Saida: 4\n"
     ]
    }
   ],
   "source": [
    "print(f'Entrada:{A} \\nSaida: {solution2(A)}')"
   ]
  },
  {
   "cell_type": "code",
   "execution_count": 14,
   "id": "b4e320af",
   "metadata": {},
   "outputs": [
    {
     "name": "stdout",
     "output_type": "stream",
     "text": [
      "1.45 µs ± 3.13 ns per loop (mean ± std. dev. of 7 runs, 1000000 loops each)\n"
     ]
    }
   ],
   "source": [
    "%timeit solution(A)"
   ]
  },
  {
   "cell_type": "code",
   "execution_count": 15,
   "id": "6eba1f33",
   "metadata": {},
   "outputs": [
    {
     "name": "stdout",
     "output_type": "stream",
     "text": [
      "1.47 µs ± 37.5 ns per loop (mean ± std. dev. of 7 runs, 1000000 loops each)\n"
     ]
    }
   ],
   "source": [
    "%timeit solution2(A)"
   ]
  },
  {
   "cell_type": "code",
   "execution_count": null,
   "id": "2a878ce3",
   "metadata": {},
   "outputs": [],
   "source": []
  }
 ],
 "metadata": {
  "kernelspec": {
   "display_name": "Python 3",
   "language": "python",
   "name": "python3"
  },
  "language_info": {
   "codemirror_mode": {
    "name": "ipython",
    "version": 3
   },
   "file_extension": ".py",
   "mimetype": "text/x-python",
   "name": "python",
   "nbconvert_exporter": "python",
   "pygments_lexer": "ipython3",
   "version": "3.6.9"
  }
 },
 "nbformat": 4,
 "nbformat_minor": 5
}
