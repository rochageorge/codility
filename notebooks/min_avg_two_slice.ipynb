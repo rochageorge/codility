{
 "cells": [
  {
   "cell_type": "markdown",
   "id": "702723d2",
   "metadata": {},
   "source": [
    "A non-empty zero-indexed array A consisting of N integers is given. A pair of integers (P, Q), such that 0 ≤ P < Q < N, is called a slice of array A (notice that the slice contains at least two elements). The average of a slice (P, Q) is the sum of A[P] + A[P + 1] + ... + A[Q]  divided by the length of the slice. To be precise, the average equals  (A[P] + A[P + 1] + ... + A[Q]) / (Q − P + 1).\n",
    "#### For example, array A such that:\n",
    "    A[0] = 4\n",
    "    A[1] = 2\n",
    "    A[2] = 2\n",
    "    A[3] = 5\n",
    "    A[4] = 1\n",
    "    A[5] = 5\n",
    "    A[6] = 8\n",
    "#### contains the following example slices:\n",
    "    slice (1, 2), whose average is (2 + 2) / 2 = 2;\n",
    "    slice (3, 4), whose average is (5 + 1) / 2 = 3;\n",
    "    slice (1, 4), whose average is (2 + 2 + 5 + 1) / 4 = 2.5.\n",
    "The goal is to find the starting position of a slice whose average is minimal.\n",
    "#### Write a function:\n",
    "    def solution(A)\n",
    "that, given a non-empty zero-indexed array A consisting of N integers, returns the starting position of the slice with the minimal average. If there is more than one slice with a minimal average, you should return the smallest starting position of such a slice.\n",
    "#### For example, given array A such that:\n",
    "    A[0] = 4\n",
    "    A[1] = 2\n",
    "    A[2] = 2\n",
    "    A[3] = 5\n",
    "    A[4] = 1\n",
    "    A[5] = 5\n",
    "    A[6] = 8\n",
    "the function should return 1, as explained above.\n",
    "#### Assume that:\n",
    "    N is an integer within the range [2..100,000];\n",
    "    each element of array A is an integer within the range [−10,000..10,000].\n",
    "#### Complexity:\n",
    "    expected worst-case time complexity is O(N);\n",
    "    expected worst-case space complexity is O(N), beyond input storage\n",
    "    (not counting the storage required for input arguments).\n",
    "    Elements of input arrays can be modified."
   ]
  },
  {
   "cell_type": "code",
   "execution_count": 92,
   "id": "7b4c52cb",
   "metadata": {},
   "outputs": [],
   "source": [
    "import random"
   ]
  },
  {
   "cell_type": "code",
   "execution_count": 212,
   "id": "43db1e24",
   "metadata": {},
   "outputs": [],
   "source": [
    "A = [4, 2, 2, 5, 1, 5, 8]*10000"
   ]
  },
  {
   "cell_type": "code",
   "execution_count": 213,
   "id": "12b15ce8",
   "metadata": {},
   "outputs": [],
   "source": [
    "def solution(A):\n",
    "    \n",
    "    \n",
    "    max_number=max(A)\n",
    "    min_average=max_number   \n",
    "    no_increase=0 \n",
    "    \n",
    "    while no_increase<100:\n",
    "        \n",
    "        Q=random.randint(1,max_number)    \n",
    "        P=random.randint(0,Q)    \n",
    "        average=sum(A[P:Q+1])/(Q-P+1)\n",
    "                \n",
    "        if min_average>average and average>0:\n",
    "            min_average=average\n",
    "            no_increase=0\n",
    "        else:\n",
    "            no_increase+=1\n",
    "            \n",
    "    return min_average"
   ]
  },
  {
   "cell_type": "code",
   "execution_count": 215,
   "id": "c6bc0196",
   "metadata": {},
   "outputs": [],
   "source": [
    "import sys\n",
    "\n",
    "\n",
    "def solution2(A):\n",
    "    n = len(A)\n",
    "    pre_sum = [0] * (n + 1)\n",
    "    min_slice_avg = sys.maxsize\n",
    "    min_slice_idx = 0\n",
    "\n",
    "    for i in range(1, n + 1):\n",
    "        pre_sum[i] = pre_sum[i - 1] + A[i - 1]\n",
    "\n",
    "        # calculate at least 2 prefix sums\n",
    "        if i - 2 < 0:\n",
    "            continue\n",
    "\n",
    "        # check prev 3 slices if we have calculated 3 prefix sums\n",
    "        if i >= 3:\n",
    "            prev_3_slice_avg = (pre_sum[i] - pre_sum[i - 3]) / 3.0\n",
    "\n",
    "            if prev_3_slice_avg < min_slice_avg:\n",
    "                min_slice_avg = prev_3_slice_avg\n",
    "                min_slice_idx = i - 3\n",
    "\n",
    "        # check prev 2 slices\n",
    "        prev_2_slice_avg = (pre_sum[i] - pre_sum[i - 2]) / 2.0\n",
    "\n",
    "        if prev_2_slice_avg < min_slice_avg:\n",
    "            min_slice_avg = prev_2_slice_avg\n",
    "            min_slice_idx = i - 2\n",
    "\n",
    "    return min_slice_idx"
   ]
  },
  {
   "cell_type": "code",
   "execution_count": 219,
   "id": "7f1dbb9a",
   "metadata": {},
   "outputs": [
    {
     "data": {
      "text/plain": [
       "(1.0, 1)"
      ]
     },
     "execution_count": 219,
     "metadata": {},
     "output_type": "execute_result"
    }
   ],
   "source": [
    "solution(A), solution2(A)"
   ]
  },
  {
   "cell_type": "code",
   "execution_count": 220,
   "id": "56771a3f",
   "metadata": {},
   "outputs": [
    {
     "name": "stdout",
     "output_type": "stream",
     "text": [
      "1.81 ms ± 304 µs per loop (mean ± std. dev. of 7 runs, 1000 loops each)\n",
      "48.6 ms ± 7.17 ms per loop (mean ± std. dev. of 7 runs, 10 loops each)\n"
     ]
    }
   ],
   "source": [
    "%timeit solution(A)\n",
    "%timeit solution2(A)"
   ]
  },
  {
   "cell_type": "code",
   "execution_count": null,
   "id": "c95ac20b",
   "metadata": {},
   "outputs": [],
   "source": []
  }
 ],
 "metadata": {
  "kernelspec": {
   "display_name": "Python 3",
   "language": "python",
   "name": "python3"
  },
  "language_info": {
   "codemirror_mode": {
    "name": "ipython",
    "version": 3
   },
   "file_extension": ".py",
   "mimetype": "text/x-python",
   "name": "python",
   "nbconvert_exporter": "python",
   "pygments_lexer": "ipython3",
   "version": "3.6.9"
  }
 },
 "nbformat": 4,
 "nbformat_minor": 5
}
