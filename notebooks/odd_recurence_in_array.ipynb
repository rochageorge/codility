{
 "cells": [
  {
   "cell_type": "markdown",
   "id": "5a5f320d",
   "metadata": {},
   "source": [
    "###  A non-empty zero-indexed array A consisting of N integers is given. The array contains an odd number of elements, and each element of the array can be paired with another element that has the same value, except for one element that is left unpaired.\n",
    "\n",
    "#### For example, in array A such that:\n",
    "\n",
    "    A[0] = 9  \n",
    "    A[1] = 3  \n",
    "    A[2] = 9\n",
    "    A[3] = 3  \n",
    "    A[4] = 9  \n",
    "    A[5] = 7\n",
    "    A[6] = 9\n",
    "\n",
    "The elements at indexes 0 and 2 have value 9,\n",
    "The elements at indexes 1 and 3 have value 3,\n",
    "The elements at indexes 4 and 6 have value 9,\n",
    "The element at index 5 has value 7 and is unpaired.\n",
    "\n",
    "#### Write a function:\n",
    "\n",
    "    def solution(A)\n",
    "\n",
    "That, given an array A consisting of N integers fulfilling the above conditions, returns the value of the unpaired element.\n",
    "\n",
    "#### For example, given array A such that:\n",
    "\n",
    "    A[0] = 9  \n",
    "    A[1] = 3  \n",
    "    A[2] = 9\n",
    "    A[3] = 3  \n",
    "    A[4] = 9  \n",
    "    A[5] = 7\n",
    "    A[6] = 9\n",
    "    \n",
    "The function should return 7, as explained in the example above.\n",
    "\n",
    "#### Assume that:\n",
    "    \n",
    "    N is an odd integer within the range [1..1,000,000];\n",
    "    Each element of array A is an integer within the range [1..1,000,000,000];\n",
    "    All but one of the values in A occur an even number of times.\n",
    "\n",
    "#### Complexity:\n",
    "\n",
    "    Expected worst-case time complexity is O(N);\n",
    "    Expected worst-case space complexity is O(1), beyond input storage(not counting the storage required for input arguments)."
   ]
  },
  {
   "cell_type": "code",
   "execution_count": 2,
   "id": "ce2e3461",
   "metadata": {},
   "outputs": [],
   "source": [
    "from numpy import array\n",
    "from collections import Counter"
   ]
  },
  {
   "cell_type": "code",
   "execution_count": 8,
   "id": "eddb580f",
   "metadata": {},
   "outputs": [],
   "source": [
    "A = array([9, 3])\n",
    "B = array([9, 3, 9, 7, 9, 7, 5, 5, 4, 1, 4, 7, 7])\n",
    "C = array([9, 3, 9, 7, 9, 7, 5, 5, 4, 1, 4, 7, 7]*10) \n",
    "D = array([9, 3, 9, 7, 9, 7, 5, 5, 4, 1, 4, 7, 7]*10000) \n",
    "E = array([9, 3, 9, 7, 9, 7, 5, 5, 4, 1, 4, 7, 7,3, 1, 2, 8]*154540) \n",
    "F = []"
   ]
  },
  {
   "cell_type": "code",
   "execution_count": 4,
   "id": "f1f43faa",
   "metadata": {},
   "outputs": [],
   "source": [
    "def solution(A):\n",
    "    \n",
    "    if len(A) == 0:\n",
    "        return 0\n",
    "    \n",
    "    count_numbers=Counter(A)\n",
    "    odd_list=[]\n",
    "    \n",
    "    for number, quantity in count_numbers.items():\n",
    "\n",
    "        if quantity%2==1:\n",
    "            odd_list.append(number)\n",
    "    \n",
    "    return odd_list"
   ]
  },
  {
   "cell_type": "code",
   "execution_count": 6,
   "id": "62738d00",
   "metadata": {},
   "outputs": [
    {
     "name": "stdout",
     "output_type": "stream",
     "text": [
      "5.27 µs ± 1.16 µs per loop (mean ± std. dev. of 7 runs, 100000 loops each)\n",
      "8.43 µs ± 1.62 µs per loop (mean ± std. dev. of 7 runs, 100000 loops each)\n",
      "35.9 µs ± 8.46 µs per loop (mean ± std. dev. of 7 runs, 10000 loops each)\n",
      "34.4 ms ± 6.83 ms per loop (mean ± std. dev. of 7 runs, 10 loops each)\n",
      "648 ms ± 152 ms per loop (mean ± std. dev. of 7 runs, 1 loop each)\n"
     ]
    }
   ],
   "source": [
    "%timeit solution(A)\n",
    "%timeit solution(B)\n",
    "%timeit solution(C)\n",
    "%timeit solution(D)\n",
    "%timeit solution(E)"
   ]
  },
  {
   "cell_type": "code",
   "execution_count": 7,
   "id": "fcde9b42",
   "metadata": {},
   "outputs": [
    {
     "data": {
      "text/plain": [
       "[1]"
      ]
     },
     "execution_count": 7,
     "metadata": {},
     "output_type": "execute_result"
    }
   ],
   "source": [
    "solution(F)"
   ]
  },
  {
   "cell_type": "code",
   "execution_count": null,
   "id": "b76d2abb",
   "metadata": {},
   "outputs": [],
   "source": []
  }
 ],
 "metadata": {
  "kernelspec": {
   "display_name": "Python 3",
   "language": "python",
   "name": "python3"
  },
  "language_info": {
   "codemirror_mode": {
    "name": "ipython",
    "version": 3
   },
   "file_extension": ".py",
   "mimetype": "text/x-python",
   "name": "python",
   "nbconvert_exporter": "python",
   "pygments_lexer": "ipython3",
   "version": "3.6.9"
  }
 },
 "nbformat": 4,
 "nbformat_minor": 5
}
