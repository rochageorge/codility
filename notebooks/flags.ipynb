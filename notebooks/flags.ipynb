{
 "cells": [
  {
   "cell_type": "markdown",
   "id": "e986350a",
   "metadata": {},
   "source": [
    "A non-empty zero-indexed array A consisting of N integers is given. A peak is an array element which is larger than its neighbours. More precisely, it is an index P such that 0 < P < N − 1 and A[P − 1] < A[P] > A[P + 1].\n",
    "#### For example, the following array A:\n",
    "    A[0] = 1\n",
    "    A[1] = 5\n",
    "    A[2] = 3\n",
    "    A[3] = 4\n",
    "    A[4] = 3\n",
    "    A[5] = 4\n",
    "    A[6] = 1\n",
    "    A[7] = 2\n",
    "    A[8] = 3\n",
    "    A[9] = 4\n",
    "    A[10] = 6\n",
    "    A[11] = 2\n",
    "has exactly four peaks: elements 1, 3, 5 and 10. You are going on a trip to a range of mountains whose relative heights are represented by array A, as shown in a figure below. You have to choose how many flags you should take with you. The goal is to set the maximum number of flags on the peaks, according to certain rules. Flags can only be set on peaks. What's more, if you take K flags, then the distance between any two flags should be greater than or equal to K. The distance between indices P and Q is the absolute value |P − Q|.\n",
    "#### For example, given the mountain range represented by array A,  above, with N = 12, if you take:\n",
    "    two flags, you can set them on peaks 1 and 5;\n",
    "    three flags, you can set them on peaks 1, 5 and 10;\n",
    "    four flags, you can set only three flags, on peaks 1, 5 and 10.\n",
    "You can therefore set a maximum of three flags in this case.\n",
    "#### Write a function:\n",
    "    def solution(A)\n",
    "that, given a non-empty zero-indexed array A of N integers, returns the maximum number of flags that can be set on the peaks of the array.\n",
    "#### For example, the following array A:\n",
    "    A[0] = 1\n",
    "    A[1] = 5\n",
    "    A[2] = 3\n",
    "    A[3] = 4\n",
    "    A[4] = 3\n",
    "    A[5] = 4\n",
    "    A[6] = 1\n",
    "    A[7] = 2\n",
    "    A[8] = 3\n",
    "    A[9] = 4\n",
    "    A[10] = 6\n",
    "    A[11] = 2\n",
    "the function should return 3, as explained above.\n",
    "#### Assume that:\n",
    "    N is an integer within the range [1..400,000];\n",
    "each element of array A is an integer within the range [0..1,000,000,000].\n",
    "#### Complexity:\n",
    "    expected worst-case time complexity is O(N);\n",
    "    expected worst-case space complexity is O(N),\n",
    "    beyond input storage (not counting the storage required for input arguments).\n",
    "    Elements of input arrays can be modified."
   ]
  },
  {
   "cell_type": "code",
   "execution_count": 28,
   "id": "b316d7d9",
   "metadata": {},
   "outputs": [],
   "source": [
    "A = [1, 5, 3, 4, 3, 4, 1, 2, 3, 4, 6, 2]"
   ]
  },
  {
   "cell_type": "code",
   "execution_count": 29,
   "id": "6d34cc7f",
   "metadata": {},
   "outputs": [],
   "source": [
    "def solution(A):\n",
    "    \n",
    "    n_flags=0\n",
    "    \n",
    "    peaks=[i for i in range(len(A)) if A[i-1]<A[i]>A[i+1]]\n",
    "    \n",
    "    for i in range(len(peaks)-1):\n",
    "        distance=(peaks[i+1]-peaks[i])\n",
    "        if distance>n_flags:\n",
    "            n_flags+=1\n",
    "    \n",
    "    return n_flags"
   ]
  },
  {
   "cell_type": "code",
   "execution_count": 30,
   "id": "69e2936d",
   "metadata": {},
   "outputs": [],
   "source": [
    "\n",
    "from math import sqrt\n",
    "\n",
    "\n",
    "def transform(A):\n",
    "    peak_pos = len(A)\n",
    "    last_height = A[-1]\n",
    "    for p in range(len(A) - 1, 0, -1):\n",
    "        if (A[p - 1] < A[p] > last_height):\n",
    "            peak_pos = p\n",
    "        last_height = A[p]\n",
    "        A[p] = peak_pos\n",
    "    A[0] = peak_pos\n",
    "\n",
    "\n",
    "def can_fit_flags(A, k):\n",
    "    flag = 1 - k\n",
    "    for i in range(k):\n",
    "        # we plant the next flag at A[flag + k]\n",
    "        if flag + k > len(A) - 1:\n",
    "            return False\n",
    "        flag = A[flag + k]\n",
    "    return flag < len(A)  # last flag planted successfully\n",
    "\n",
    "\n",
    "def solution2(A):\n",
    "    transform(A)\n",
    "    lower = 0\n",
    "    upper = int(sqrt(len(A))) + 2\n",
    "    assert not can_fit_flags(A, k=upper)\n",
    "    while lower < upper - 1:\n",
    "        next = (lower + upper) // 2\n",
    "        if can_fit_flags(A, k=next):\n",
    "            lower = next\n",
    "        else:\n",
    "            upper = next\n",
    "    return lower"
   ]
  },
  {
   "cell_type": "code",
   "execution_count": 31,
   "id": "fbf4627c",
   "metadata": {},
   "outputs": [
    {
     "name": "stdout",
     "output_type": "stream",
     "text": [
      "2.36 µs ± 23.6 ns per loop (mean ± std. dev. of 7 runs, 100000 loops each)\n",
      "3.77 µs ± 6.76 ns per loop (mean ± std. dev. of 7 runs, 100000 loops each)\n"
     ]
    }
   ],
   "source": [
    "%timeit solution(A)\n",
    "%timeit solution2(A)"
   ]
  },
  {
   "cell_type": "code",
   "execution_count": 25,
   "id": "a9a13027",
   "metadata": {},
   "outputs": [
    {
     "data": {
      "text/plain": [
       "(3, 3)"
      ]
     },
     "execution_count": 25,
     "metadata": {},
     "output_type": "execute_result"
    }
   ],
   "source": [
    "solution(A), solution2(A)"
   ]
  },
  {
   "cell_type": "code",
   "execution_count": null,
   "id": "f96c4ffa",
   "metadata": {},
   "outputs": [],
   "source": []
  }
 ],
 "metadata": {
  "kernelspec": {
   "display_name": "Python 3",
   "language": "python",
   "name": "python3"
  },
  "language_info": {
   "codemirror_mode": {
    "name": "ipython",
    "version": 3
   },
   "file_extension": ".py",
   "mimetype": "text/x-python",
   "name": "python",
   "nbconvert_exporter": "python",
   "pygments_lexer": "ipython3",
   "version": "3.6.9"
  }
 },
 "nbformat": 4,
 "nbformat_minor": 5
}
